{
 "cells": [
  {
   "cell_type": "markdown",
   "metadata": {},
   "source": [
    "#### THINGS TO ADD\n",
    "- PLL full module diagram\n",
    "- PED diagram\n",
    "- Loop Filter diagram\n",
    "- DDS diagram\n",
    "- QPSK PLL diagram\n",
    "- clean imports and disc\n",
    "- talk to luke about pll plots conveging to zero\n",
    "- add real time unique word swap"
   ]
  },
  {
   "cell_type": "markdown",
   "metadata": {},
   "source": [
    "### PLL Implementation\n",
    "\n",
    "The following phase locked loop (PLL) system illustrates the core elements used to construct a PLL as well as later its use in a QPSK system. Phase locked loops are used in communications systems to synchronize a output signal with a input reference signal which is useful for correcting small unkown phase and frequency offsets in the received signal. The first submodule is a phase detector which calculates the phase difference between in the input reference signal and the PLL output, this term represents the instantaneous phase error. The phase error is then fed into a loop filter then into a digital direct synthesizer (DDS) which generates the output signal. This process is represented below in Figure 1.\n",
    "\n",
    "FIGURE 1 HERE\n",
    "<!-- <div style=\"text-align: center;\">\n",
    "    <img src=\"./images/QPSK/transmitter_receiver_diagram.png\" alt=\"\" width=\"750\" />\n",
    "    <p>QPSK System Transmitter and Receiver Architecture</p>\n",
    "</div> -->"
   ]
  },
  {
   "cell_type": "markdown",
   "metadata": {},
   "source": [
    "#### Imports and Library Functions\n",
    "talk about library and imports here"
   ]
  },
  {
   "cell_type": "code",
   "execution_count": 1,
   "metadata": {},
   "outputs": [],
   "source": [
    "from helper_functions import sp_library as sp\n",
    "import numpy as np\n",
    "import matplotlib.pyplot as plt"
   ]
  },
  {
   "cell_type": "markdown",
   "metadata": {},
   "source": [
    "#### Phase Error Detector\n",
    "The phase error detector module takes two reference signals as input, computes the phase of both, and outputs the difference between the two. The phases of the signals are obtained by effectivly taking the inverse tangents of a complex signal point for each signal and then adjusting the resulting phase based on the assumed quadrant of each point. This process is derived below\n",
    "\n",
    "$$\n",
    "\\theta _o\\left(nT\\right)\\:=\\:\\tan ^{-1}\\left(\\frac{x_{imag}\\left(nT\\right)}{x_{real}\\left(nT\\right)}\\right) \\quad \\quad \\quad \\theta _i\\left(nT\\right)\\:=\\:\\tan ^{-1}\\left(\\frac{x_{imag}\\left(nT\\right)}{x_{real}\\left(nT\\right)}\\right)\n",
    "$$\n",
    "\n",
    "$$\n",
    "e\\left(nT\\right)=\\Delta \\:\\theta \\:\\left(nT\\right)=\\theta \\:_o\\left(nT\\right)-\\theta \\:_i\\left(nT\\right)\n",
    "$$\n",
    "\n",
    "where:\n",
    "- $i$ represents the input reference signal,\n",
    "- $o$ represents the output signal,\n",
    "- $nT$ is the instantaneous sample,\n",
    "- $e(nT)$ is the detected phase error.\n",
    "\n",
    "The following excerpt shoes the phase detector implementation that is later used in the "
   ]
  },
  {
   "cell_type": "code",
   "execution_count": 2,
   "metadata": {},
   "outputs": [
    {
     "name": "stdout",
     "output_type": "stream",
     "text": [
      "\n",
      "Test case 1 output: 45.0 deg\n",
      "Test case 2 output: 90.0 deg\n",
      "\n"
     ]
    }
   ],
   "source": [
    "def phase_error_detector(sample1, sample2):\n",
    "    angle = np.angle(sample2) - np.angle(sample1)\n",
    "    if angle > np.pi:\n",
    "        angle -= 2 * np.pi\n",
    "    elif angle < -np.pi:\n",
    "        angle += 2 * np.pi\n",
    "    return angle\n",
    "\n",
    "# test case 1\n",
    "sample1 = 0\n",
    "sample2 = 1 + 1j\n",
    "ped_output = phase_error_detector(sample1, sample2)\n",
    "print(f\"\\nTest case 1 output: {np.degrees(ped_output)} deg\")\n",
    "\n",
    "# test case 2\n",
    "sample1 = 1 - 1j\n",
    "sample2 = 1 + 1j\n",
    "ped_output = phase_error_detector(sample1, sample2)\n",
    "print(f\"Test case 2 output: {np.degrees(ped_output)} deg\\n\")"
   ]
  },
  {
   "cell_type": "markdown",
   "metadata": {},
   "source": [
    "#### Loop Filter\n",
    "\n",
    "The loop filter module procides stability for the overall PLL system by shaping the closed-loop frequency, or transient response. During instantiation of a PLL system, for this example a PLL object, a loop bandwidth and damping factor are defined as parameters shaping this transient response. The loop bandwidth specifies the speed at which the PLL will converge towards matching the input reference signal, setting a wider loop bandwidth allows the PLL to respond more rapidly respond to input frequency changes but introduces more internal noise. The damping factor, often represented as $\\zeta$ specifies how the oscillations decay in the transient response when a input frequency change is introduced. Together these parameters categorize the loop filter coefficients $K_1$ and $K_2$ which are derived below.\n",
    "\n",
    "LOOP FILTER DIAGRAM HERE\n",
    "\n",
    "$$\n",
    "K_1 = \\frac{4 \\xi \\left( \\frac{B_n T_s}{\\zeta + \\frac{1}{4 \\zeta}} \\right)}{1 + 2 \\zeta \\left( \\frac{B_{nT} T_s}{\\zeta + \\frac{1}{4 \\zeta}} \\right) + \\left( \\frac{B_{nT} T_s}{\\zeta + \\frac{1}{4 \\zeta}} \\right)^2} \\quad \\quad \\quad K_2 = \\frac{4 \\left( \\frac{B_n T_s}{\\zeta + \\frac{1}{4 \\zeta}} \\right)^2}{1 + 2 \\zeta \\left( \\frac{B_{nT} T_s}{\\zeta + \\frac{1}{4 \\zeta}} \\right) + \\left( \\frac{B_{nT} T_s}{\\zeta + \\frac{1}{4 \\zeta}} \\right)^2}\n",
    "$$\n",
    "\n",
    "where:\n",
    "- $B_n$ represents the loop bandwidth (usually normalized for the sample rate $f_s$),\n",
    "- $\\zeta$ represents the damping factor,\n",
    "- $T_s$ is the sampling period of the system."
   ]
  },
  {
   "cell_type": "code",
   "execution_count": 12,
   "metadata": {},
   "outputs": [
    {
     "name": "stdout",
     "output_type": "stream",
     "text": [
      "\n",
      "Sample Rate: 8\n",
      "Loop Bandwidth: 0.16\n",
      "Damping Factor: 0.70711\n",
      "Loop Filter Coefficient K1: 0.05193\n",
      "Loop Filter Coefficient K2: 0.00035\n",
      "\n"
     ]
    }
   ],
   "source": [
    "def compute_loop_constants(fs, lb, df):\n",
    "    denominator = 1 + ((2 * df) * ((lb * (1 / fs)) / (df + (1 / (4 * df))))) + ((lb * (1 / fs)) / (df + (1 / (4 * df)))) ** 2\n",
    "    K1 = ((4 * df) * ((lb * (1 / fs)) / (df + (1 / (4 * df))))) / denominator\n",
    "    K2 = (((lb * (1 / fs)) / (df + (1 / (4 * df)))) ** 2) / denominator\n",
    "    return K1, K2\n",
    "\n",
    "sample_rate = 8\n",
    "loop_bandwidth = 0.02 * sample_rate\n",
    "damping_factor = 1 / np.sqrt(2)\n",
    "k1, k2 = compute_loop_constants(sample_rate, loop_bandwidth, damping_factor)\n",
    "\n",
    "print(\"\\n Loop Filter Configuration Parameters\")\n",
    "print(f\"Sample Rate: {sample_rate}\")\n",
    "print(f\"Loop Bandwidth: {loop_bandwidth}\")\n",
    "print(f\"Damping Factor: {np.round(damping_factor, 5)}\")\n",
    "print(f\"Loop Filter Coefficient K1: {np.round(k1, 5)}\")\n",
    "print(f\"Loop Filter Coefficient K2: {np.round(k2, 5)}\\n\")"
   ]
  },
  {
   "cell_type": "markdown",
   "metadata": {},
   "source": [
    "#### DDS\n",
    "The direct digital synthesizer module takes the output of the loop filter (the filtered phase error) and uses this value to produce a complex sinusoid output signal. This process is shown below in #Figure X# which uses a feedback architecture to sum the previous output, the current output, and a reference frequency (assuming you have an idea of where your center frequency is located) which is then fed into a complex multiplier. The complex multiplier module represents two seperate channels in which the first a cosine is applied to the input and the second a sine, these calculations are applied via the CORDiC algorithm which will be discussed in a later example.\n",
    "\n",
    "DDS DIAGRAM HERE\n",
    "\n",
    "$$\n",
    "e^{j\\left(\\cdot \\right)}=cos\\left(\\cdot \\right)\\:+\\:jsin\\left(\\cdot \\right)\n",
    "$$\n",
    "\n",
    "The diagram above shows a gain, $K_0$, being applied to the DDS input, this is value can be used as a normalization coeffienct or a way of inverting the output signal."
   ]
  },
  {
   "cell_type": "code",
   "execution_count": null,
   "metadata": {},
   "outputs": [],
   "source": [
    "def DDS(fs, n, v, f0, k0):\n",
    "    phase = v * k0\n",
    "    output = np.exp(1j * (2 * np.pi * (f0 / fs) * n + phase))\n",
    "    return output\n",
    "\n",
    "fs = 8 # sample rate\n",
    "n = np.arange(0, 100) # sample indicies\n",
    "v = 1.0 # defined loop filter output\n",
    "k0 = 1.0 # normalization coefficient\n",
    "f0 = 10 # assumed frequency of input\n",
    "\n",
    "output = DDS(sample_rate, n, v, k0, f0)\n",
    "\n",
    "plt.figure(figsize=(6, 4))\n",
    "plt.plot(np.real(output))\n",
    "plt.title(\"DDS Output\")\n",
    "plt.show()"
   ]
  },
  {
   "cell_type": "markdown",
   "metadata": {},
   "source": [
    "#### Full System Test\n",
    "\n",
    "Now that each of the submodules have been defined the full PLL system can be tested. This module is defined as a class within the helper functions code as is run in stream mode where a single sample of the complex reference input signal goes in, and a single sample of the output signal comes out. A reference signal is generated for testing purposes as well as a set of arrays declared for tracking of the PLL's internal variables including the detected phase error, loop filter output, and input and output reference signal samples."
   ]
  },
  {
   "cell_type": "code",
   "execution_count": 15,
   "metadata": {},
   "outputs": [],
   "source": [
    "fs = 500 \n",
    "\n",
    "sig_freq = 10\n",
    "sig_phase = np.pi / 4\n",
    "n = np.arange(0,1000)\n",
    "input_signal = np.exp(1j * ((2 * np.pi * (sig_freq) / fs) * n + (sig_phase)))\n",
    "\n",
    "# simulation results record\n",
    "pll_input = []\n",
    "pll_output = []\n",
    "pll_detected_phase_record = []\n",
    "pll_error_record = []"
   ]
  },
  {
   "cell_type": "markdown",
   "metadata": {},
   "source": [
    "Next the PLL module can be instantiated using the system sample rate as well as a specified loop bandwidth and damping factor."
   ]
  },
  {
   "cell_type": "code",
   "execution_count": 18,
   "metadata": {},
   "outputs": [
    {
     "name": "stdout",
     "output_type": "stream",
     "text": [
      "\n",
      "PLL Configuration Parameters\n",
      "K0: 1\n",
      "K1: 0.05193\n",
      "K2: 0.00035\n",
      "\n"
     ]
    }
   ],
   "source": [
    "loop_bandwidth = 0.02 * fs\n",
    "damping_factor = 1 / np.sqrt(2)\n",
    "pll = sp.PLL(fs, loop_bandwidth=loop_bandwidth, damping_factor=damping_factor)\n",
    "\n",
    "# Print loop filter gains for reference\n",
    "print(\"\\nPLL Configuration Parameters\")\n",
    "print(f\"K0: {pll.K0}\")\n",
    "print(f\"K1: {np.round(pll.K1, 5)}\")\n",
    "print(f\"K2: {np.round(pll.K2, 5)}\\n\")"
   ]
  },
  {
   "cell_type": "markdown",
   "metadata": {},
   "source": [
    "Finally the simulation can be run in a sequential fashion mirroring that of what a real-time streaming system would look like."
   ]
  },
  {
   "cell_type": "code",
   "execution_count": null,
   "metadata": {},
   "outputs": [],
   "source": [
    "for i in range(len(n)):\n",
    "    # insert the new sample into the PLL\n",
    "    output_signal = pll.insert_new_sample(input_signal[i], i)\n",
    "    \n",
    "    # record detected phase and error\n",
    "    detected_phase = pll.get_current_phase()\n",
    "    error = pll.phase_detector(output_signal, input_signal[i])\n",
    "\n",
    "    # update records\n",
    "    pll_input.append(input_signal[i])\n",
    "    pll_output.append(output_signal)\n",
    "    pll_detected_phase_record.append(detected_phase)\n",
    "    pll_error_record.append(error)\n",
    "\n",
    "# plotting the phase error and input/output signal results\n",
    "plt.figure(figsize=(12, 8))\n",
    "\n",
    "plt.subplot(2, 1, 1)\n",
    "plt.plot(pll_error_record, label='Phase Error', color='r')\n",
    "plt.title('Phase Error')\n",
    "plt.xlabel('Sample Index')\n",
    "plt.ylabel('Phase Error (radians)')\n",
    "plt.grid()\n",
    "\n",
    "plt.subplot(2, 1, 2)\n",
    "plt.plot(np.real(pll_input), label='Input Signal', color='b', alpha=0.7)\n",
    "plt.plot(np.real(pll_output), label='Output Signal', color='g', alpha=0.7)\n",
    "plt.title('Input and Output Signals')\n",
    "plt.xlabel('Sample Index')\n",
    "plt.ylabel('Amplitude')\n",
    "plt.legend()\n",
    "plt.grid()\n",
    "\n",
    "plt.tight_layout()\n",
    "plt.show()"
   ]
  },
  {
   "cell_type": "markdown",
   "metadata": {},
   "source": [
    "### QPSK Integration\n",
    "The PLL described above provides the foundation for phase and frequency synchronization in a communications receiver with some slight adjustments. #Figure X# below illustrates the placement into a QPSK system in which complex points are pulled from before and after the decision module and phase corrections are made after downsampling.\n",
    "\n",
    "FULL QPSK PLL DIAGRAM HERE"
   ]
  },
  {
   "cell_type": "markdown",
   "metadata": {},
   "source": [
    "#### Unique Word Resolution\n",
    "\n",
    "The timing error detector operates on a complex point taken before the decision process and after the decision process which uses the assumption that we are already near the correct symbol and therefore from the estimated value we know how far off the received point was. This allows the PLL to converge its internal phase to the received signal phase but includes a large amount of ambiguity considering the estimated point could be a rotated version of the message. A unique word is a know sequence of symbols that is unique for each possible symbol point in a modulation schemes constellation. This allows for the PLL to lock onto the nearest estimated point and then quickly rotate the constellation based on the received unique word sequence. An 8 symbol 16 bit unique word example is shown below for QPSK."
   ]
  },
  {
   "cell_type": "code",
   "execution_count": 1,
   "metadata": {},
   "outputs": [],
   "source": [
    "import numpy as np\n",
    "unique_word = [0, 1, 2, 3, 0, 1, 2, 3]\n",
    "phase_ambiguities = {\n",
    "    \"01230123\": 0,\n",
    "    \"20312031\": np.pi/2,\n",
    "    \"32103210\": np.pi,\n",
    "    \"13021302\": 3*np.pi/2\n",
    "}"
   ]
  },
  {
   "cell_type": "markdown",
   "metadata": {},
   "source": [
    "#### QPSK Transmitter\n",
    "\n",
    "The QPSK tranmitter can be simulated similarly to as done in the QPSK full example with the addition of adding the previously described unqiue word the the genearate symbol message. This process will be summarized here and where as a in depth discussion of transmission can be found in  *QPSK.ipynb*."
   ]
  },
  {
   "cell_type": "code",
   "execution_count": 26,
   "metadata": {},
   "outputs": [],
   "source": [
    "from helper_functions import sp_library as sp\n",
    "import numpy as np\n",
    "import matplotlib.pyplot as plt"
   ]
  },
  {
   "cell_type": "code",
   "execution_count": 3,
   "metadata": {},
   "outputs": [],
   "source": [
    "# SYSTEM PARAMETERS\n",
    "qpsk_constellation = [[complex( np.sqrt(1) +  np.sqrt(1)*1j), 3], \n",
    "                      [complex( np.sqrt(1) + -np.sqrt(1)*1j), 2], \n",
    "                      [complex(-np.sqrt(1) + -np.sqrt(1)*1j), 0], \n",
    "                      [complex(-np.sqrt(1) +  np.sqrt(1)*1j), 1]]\n",
    "fs = 8 # sample rate\n",
    "fc = .25 * fs # carrier frequency\n",
    "input_message_ascii = \"this is a qpsk transceiver test!\"\n",
    "\n",
    "# mapping the ascii characters to binary\n",
    "input_message_bins = ''.join(sp.string_to_ascii_binary(input_message_ascii))\n",
    "\n",
    "# grouping the binary into blocks of two bits\n",
    "input_message_blocks = [input_message_bins[i:i+2] for i in range(0, len(input_message_bins), 2)]\n",
    "\n",
    "# mapping each block to a symbol in the constellation\n",
    "input_message_symbols = [int(bin2, 2) for bin2 in input_message_blocks]\n",
    "\n",
    "# adding unqiue word to symbols\n",
    "unique_word = [0, 1, 2, 3, 0, 1, 2, 3]\n",
    "phase_ambiguities = {\n",
    "    \"01230123\": 0,\n",
    "    \"20312031\": np.pi/2,\n",
    "    \"32103210\": np.pi,\n",
    "    \"13021302\": 3*np.pi/2\n",
    "}\n",
    "\n",
    "input_message_symbols = unique_word + input_message_symbols\n",
    "\n",
    "bits_to_amplitude = {bit: amplitude for amplitude, bit in qpsk_constellation}\n",
    "\n",
    "# inphase channel symbol mapping\n",
    "xk = np.real([bits_to_amplitude[symbol] for symbol in input_message_symbols])\n",
    "\n",
    "# quadrature channel symbol mapping\n",
    "yk = np.imag([bits_to_amplitude[symbol] for symbol in input_message_symbols])\n",
    "\n",
    "# adding header to each channel\n",
    "header = np.ones(25)\n",
    "xk = np.concatenate([header, xk])\n",
    "yk = np.concatenate([header, yk])"
   ]
  },
  {
   "cell_type": "code",
   "execution_count": 5,
   "metadata": {},
   "outputs": [],
   "source": [
    "# UPSAMPLING\n",
    "xk_upsampled = sp.upsample(xk, fs, interpolate_flag=False)\n",
    "yk_upsampled = sp.upsample(yk, fs, interpolate_flag=False)"
   ]
  },
  {
   "cell_type": "code",
   "execution_count": 7,
   "metadata": {},
   "outputs": [],
   "source": [
    "# PULSE SHAPE\n",
    "length = 64\n",
    "alpha = 0.10\n",
    "pulse_shape = sp.srrc(alpha, fs, length)\n",
    "\n",
    "xk_pulse_shaped = np.real(np.roll(sp.convolve(xk_upsampled, pulse_shape, mode=\"same\"), -1))\n",
    "yk_pulse_shaped = np.real(np.roll(sp.convolve(yk_upsampled, pulse_shape, mode=\"same\"), -1))"
   ]
  },
  {
   "cell_type": "code",
   "execution_count": 10,
   "metadata": {},
   "outputs": [],
   "source": [
    "# DIGITAL MODULATION\n",
    "s_RF = (\n",
    "    np.sqrt(2) * np.real(sp.modulate_by_exponential(xk_pulse_shaped, fc, fs)) +\n",
    "    np.sqrt(2) * np.imag(sp.modulate_by_exponential(yk_pulse_shaped, fc, fs))\n",
    ")"
   ]
  },
  {
   "cell_type": "markdown",
   "metadata": {},
   "source": [
    "#### QPSK Receiver\n",
    "\n",
    "A small phase and frequency offset will be added to the demodulation module which removes the synchronization between the transmitter and receiver modules. The matched filtering and downsampling are kept the same as in the QPSK example and can be read more about there."
   ]
  },
  {
   "cell_type": "code",
   "execution_count": 15,
   "metadata": {},
   "outputs": [],
   "source": [
    "# DIGITAL DEMODULATIOIN\n",
    "fc_offset = 0.0001\n",
    "phase_offset = np.pi/5\n",
    "\n",
    "xr_nT = np.sqrt(2) * np.real(sp.modulate_by_exponential(s_RF, fc + fc_offset, fs)) * np.exp(1j * phase_offset)\n",
    "yr_nT = np.sqrt(2) * np.imag(sp.modulate_by_exponential(s_RF, fc + fc_offset, fs)) * np.exp(1j * phase_offset)"
   ]
  },
  {
   "cell_type": "code",
   "execution_count": 16,
   "metadata": {},
   "outputs": [],
   "source": [
    "# MATCHED FILTERING\n",
    "xr_nT_match_filtered = np.real(np.roll(sp.convolve(xr_nT, pulse_shape, mode=\"same\"), -1))\n",
    "yr_nT_match_filtered = np.real(np.roll(sp.convolve(yr_nT, pulse_shape, mode=\"same\"), -1))"
   ]
  },
  {
   "cell_type": "code",
   "execution_count": 17,
   "metadata": {},
   "outputs": [],
   "source": [
    "# DOWNSAMPLING\n",
    "xk = sp.downsample(xr_nT_match_filtered, fs)[len(header):] # removing header\n",
    "yk= sp.downsample(yr_nT_match_filtered, fs)[len(header):] # removing header\n",
    "rk = xk + 1j * yk"
   ]
  },
  {
   "cell_type": "markdown",
   "metadata": {},
   "source": [
    "By plotting the received constellation points the phase and frequency offsets can be illustrated."
   ]
  },
  {
   "cell_type": "code",
   "execution_count": null,
   "metadata": {},
   "outputs": [],
   "source": [
    "sp.plot_complex_points(rk, constellation=qpsk_constellation)"
   ]
  },
  {
   "cell_type": "markdown",
   "metadata": {},
   "source": [
    "#### PLL Subsystem\n",
    "\n",
    "A PLL object is first instantiated using the system sample rate and specified loop bandwidth and damping factor as well as a number of input, internal, and output tracking records."
   ]
  },
  {
   "cell_type": "code",
   "execution_count": 21,
   "metadata": {},
   "outputs": [],
   "source": [
    "loop_bandwidth = 0.02*fs\n",
    "damping_factor = 1/np.sqrt(2)\n",
    "pll = sp.PLL(fs, loop_bandwidth=loop_bandwidth, damping_factor=damping_factor)\n",
    "\n",
    "# internal tracking records\n",
    "pll_detected_phase_record = []\n",
    "pll_error_record = []\n",
    "pll_loop_filter_record = []\n",
    "\n",
    "# output tracking records\n",
    "rotated_constellations = []\n",
    "detected_constellations = []"
   ]
  },
  {
   "cell_type": "markdown",
   "metadata": {},
   "source": [
    "Now, similarly to the isolated PLL simulation previously, the input points will be passed into the module in a sequential manner mimicking that of a real-time streaming system. "
   ]
  },
  {
   "cell_type": "code",
   "execution_count": 23,
   "metadata": {},
   "outputs": [],
   "source": [
    "# first dds output initialized to zero\n",
    "dds_output = np.exp(1j * 0)\n",
    "\n",
    "for i in range(len(rk)):\n",
    "    # perform ccw rotation\n",
    "    rk_ccwr = rk[i] * dds_output\n",
    "    rotated_constellations.append(rk_ccwr)\n",
    "\n",
    "    # find nearest neighbor constellation\n",
    "    detected_int = sp.nearest_neighbor([rk_ccwr], qpsk_constellation)[0]\n",
    "    detected_constellation = bits_to_amplitude[detected_int]\n",
    "    detected_constellations.append(detected_constellation)\n",
    "\n",
    "    # calculate phase error\n",
    "    phase_error = pll.phase_detector(rk_ccwr, detected_constellation)\n",
    "    pll_error_record.append(phase_error)\n",
    "    \n",
    "    # feed into loop filter\n",
    "    loop_filter_output = pll.loop_filter(phase_error)\n",
    "    pll_error_record.append(loop_filter_output)\n",
    "\n",
    "    # generate next dds output\n",
    "    dds_output = np.exp(1j * loop_filter_output)"
   ]
  },
  {
   "cell_type": "markdown",
   "metadata": {},
   "source": [
    "The rotated and estimated constellation points obtained while running the PLL subsystem are plotted below."
   ]
  },
  {
   "cell_type": "code",
   "execution_count": null,
   "metadata": {},
   "outputs": [],
   "source": [
    "# constellation plotting\n",
    "plt.title(\"PLL Output Constellations\")\n",
    "plt.plot(np.real(rotated_constellations), np.imag(rotated_constellations), 'ro', label=\"Rotated Constellations\")\n",
    "plt.plot(np.real(detected_constellations), np.imag(detected_constellations), 'bo',  label=\"Esteimated Constellations\")\n",
    "plt.legend()\n",
    "plt.grid(True)\n",
    "plt.show()"
   ]
  },
  {
   "cell_type": "markdown",
   "metadata": {},
   "source": [
    "#### Symbol Decision Part 1\n",
    "\n",
    "The estimated constellations can now be mapped back fro constellation points to symbols via the nearest neighbor algorithm. This is discussed in depth in *QPSK.ipynb* can is summarized below."
   ]
  },
  {
   "cell_type": "code",
   "execution_count": null,
   "metadata": {},
   "outputs": [],
   "source": [
    "detected_symbols = communications.nearest_neighbor(detected_constellations, qpsk_constellation)"
   ]
  },
  {
   "cell_type": "markdown",
   "metadata": {},
   "source": [
    "#### Unique Word Resolution\n",
    "\n",
    "Using the unqiue word resolution lookup table above we can search throught the received message symbols for the unique word and indentify what constellation rotation needs to be made. This opreation is performed as soon as the unqiue word is identified in real-time systems but is shown sequentially here for demonstration purposes."
   ]
  },
  {
   "cell_type": "code",
   "execution_count": 28,
   "metadata": {},
   "outputs": [
    {
     "ename": "NameError",
     "evalue": "name 'detected_symbols' is not defined",
     "output_type": "error",
     "traceback": [
      "\u001b[1;31m---------------------------------------------------------------------------\u001b[0m",
      "\u001b[1;31mNameError\u001b[0m                                 Traceback (most recent call last)",
      "Cell \u001b[1;32mIn[28], line 12\u001b[0m\n\u001b[0;32m     10\u001b[0m \u001b[38;5;66;03m# find unique word testing phase ambiguities\u001b[39;00m\n\u001b[0;32m     11\u001b[0m \u001b[38;5;28;01mfor\u001b[39;00m unique_word \u001b[38;5;129;01min\u001b[39;00m phase_ambiguities\u001b[38;5;241m.\u001b[39mkeys():\n\u001b[1;32m---> 12\u001b[0m     unique_word_index \u001b[38;5;241m=\u001b[39m find_subarray_index([\u001b[38;5;28mint\u001b[39m(i) \u001b[38;5;28;01mfor\u001b[39;00m i \u001b[38;5;129;01min\u001b[39;00m unique_word], \u001b[43mdetected_symbols\u001b[49m)\n\u001b[0;32m     13\u001b[0m     \u001b[38;5;28;01mif\u001b[39;00m unique_word_index \u001b[38;5;241m!=\u001b[39m \u001b[38;5;241m-\u001b[39m\u001b[38;5;241m1\u001b[39m:\n\u001b[0;32m     14\u001b[0m         received_unique_word \u001b[38;5;241m=\u001b[39m unique_word\n",
      "\u001b[1;31mNameError\u001b[0m: name 'detected_symbols' is not defined"
     ]
    }
   ],
   "source": [
    "def find_subarray_index(small_array, large_array):\n",
    "    small_len = len(small_array)\n",
    "    for i in range(len(large_array) - small_len + 1):\n",
    "        if large_array[i:i + small_len] == small_array:\n",
    "            return i\n",
    "    return -1\n",
    "\n",
    "received_unique_word = None\n",
    "\n",
    "# Find unique word testing phase ambiguities\n",
    "for unique_word in phase_ambiguities.keys():\n",
    "    unique_word_index = find_subarray_index([int(i) for i in unique_word], detected_symbols)\n",
    "    if unique_word_index != -1:\n",
    "        received_unique_word = unique_word\n",
    "        break\n",
    "\n",
    "if received_unique_word is not None:  # Use 'is not None' for comparison\n",
    "    detected_constellations = np.array(detected_constellations[unique_word_index:]) * np.exp(-1j * phase_ambiguities[received_unique_word])\n",
    "    print(f\"\\nReceived unique word: {received_unique_word}\")\n",
    "    print(f\"Phase Ambiguity Rotation: {np.degrees(phase_ambiguities[received_unique_word])}\\n\")\n",
    "else:\n",
    "    print(\"\\nUnique word not found.\\n\")"
   ]
  },
  {
   "cell_type": "markdown",
   "metadata": {},
   "source": []
  }
 ],
 "metadata": {
  "kernelspec": {
   "display_name": "Python 3 (ipykernel)",
   "language": "python",
   "name": "python3"
  },
  "language_info": {
   "codemirror_mode": {
    "name": "ipython",
    "version": 3
   },
   "file_extension": ".py",
   "mimetype": "text/x-python",
   "name": "python",
   "nbconvert_exporter": "python",
   "pygments_lexer": "ipython3",
   "version": "3.12.4"
  }
 },
 "nbformat": 4,
 "nbformat_minor": 4
}
