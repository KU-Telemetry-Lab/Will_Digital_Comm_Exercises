{
 "cells": [
  {
   "cell_type": "markdown",
   "id": "a174d3fb-0f11-4b22-a7b7-51927be98d87",
   "metadata": {},
   "source": [
    "### QPSK Full Synchronization System\n",
    "\n",
    "The *QPSK_Synchronized.ipynb* notebook demonstrates a full quadrature phase shift keying transmitter and receiver architecture yet assumes that the two systems are completely synchronized in both sampling and demodulation. This system is shown below in figure X.\n",
    "\n",
    "<div style=\"text-align: center;\">\n",
    "    <img src=\"./images/Full_System/full_system_sync_diagram.png\" alt=\"\" width=\"1000\" />\n",
    "    <p style=\"text-align: center;\">Figure 1: QPSK System Transmitter and Receiver Architecture</p>\n",
    "</div>\n",
    "\n",
    "Practical systems however have no knowledge of what the transmitter oscillators are set to only a general idea. The phase locked loop (PLL) subsystem described in the *PLL.ipynb* notebook demonstrated the process of correcting carrier phase and frequency offsets required for syncrhonized demodulation, this module is shown below in figure X.\n",
    "\n",
    "<div style=\"text-align: center;\">\n",
    "    <img src=\"./images/Full_System/full_system_pll_diagram.png\" alt=\"\" width=\"1000\" />\n",
    "    <p style=\"text-align: center;\">Figure 1: QPSK System Transmitter and Receiver Architecture</p>\n",
    "</div>\n",
    "\n",
    "The symbol clock synchronizer (SCS) subsystem described in the *SCS.ipynb* notebook outlined the process of correcting sample timing offsets in order to synchronize the sample selection process with the sample rate used at the transmitter. \n",
    "\n",
    "<div style=\"text-align: center;\">\n",
    "    <img src=\"./images/Full_System/full_system_scs_diagram.png\" alt=\"\" width=\"1000\" />\n",
    "    <p style=\"text-align: center;\">Figure 1: QPSK System Transmitter and Receiver Architecture</p>\n",
    "</div>\n",
    "\n",
    "When combined, these two subsystems allow a receiver to lock onto a receive signal and obtain the transmitted message admist the syncrhonization offsets. The receiver architecture including both the PLL and SCS subsystems is shown below in figure X.\n",
    "\n",
    "<div style=\"text-align: center;\">\n",
    "    <img src=\"./images/Full_System/full_system_diagram.png\" alt=\"\" width=\"1000\" />\n",
    "    <p style=\"text-align: center;\">Figure 1: QPSK System Transmitter and Receiver Architecture</p>\n",
    "</div>\n",
    "\n",
    "This system is demonstrated below in the following code blocks including both the transmitter architecutre with added syncrhonization offsets, and the receiver architecture including the PLL and SCS."
   ]
  },
  {
   "cell_type": "markdown",
   "id": "5b4f1ba5-16b6-457a-867f-fa85cd6e3122",
   "metadata": {},
   "source": [
    "#### QPSK Transmitter\n",
    "\n",
    "The QPSK transmitter architecture is described below in which each module is summarized. For more detail see *QPSK_Sychronized.ipynb*."
   ]
  },
  {
   "cell_type": "code",
   "execution_count": null,
   "id": "bbd790b7-6002-4e1a-b47d-5bfd0ed7c909",
   "metadata": {},
   "outputs": [],
   "source": [
    "# IMPORTS\n",
    "from helper_functions import sp_library as sp\n",
    "import numpy as np\n",
    "import matplotlib.pyplot as plt"
   ]
  },
  {
   "cell_type": "code",
   "execution_count": null,
   "id": "6e8a76a4-6557-4f4e-b337-77236fae2e9d",
   "metadata": {},
   "outputs": [],
   "source": [
    "# SYSTEM PARAMETERS\n",
    "qpsk_constellation = [[complex( np.sqrt(1) +  np.sqrt(1)*1j), 3], \n",
    "                      [complex( np.sqrt(1) + -np.sqrt(1)*1j), 2], \n",
    "                      [complex(-np.sqrt(1) + -np.sqrt(1)*1j), 0], \n",
    "                      [complex(-np.sqrt(1) +  np.sqrt(1)*1j), 1]]\n",
    "fs = 8 # sample rate\n",
    "fc = .25 * fs # carrier frequency\n",
    "input_message_ascii = \"this is a qpsk transceiver test!\"\n",
    "\n",
    "# mapping the ascii characters to binary\n",
    "input_message_bins = ''.join(sp.string_to_ascii_binary(input_message_ascii))\n",
    "\n",
    "# grouping the binary into blocks of two bits\n",
    "input_message_blocks = [input_message_bins[i:i+2] for i in range(0, len(input_message_bins), 2)]\n",
    "\n",
    "# mapping each block to a symbol in the constellation\n",
    "input_message_symbols = [int(bin2, 2) for bin2 in input_message_blocks]\n",
    "\n",
    "# adding unqiue word to symbols\n",
    "unique_word = [0, 1, 2, 3, 0, 1, 2, 3]\n",
    "phase_ambiguities = {\n",
    "    \"01230123\": 0,\n",
    "    \"20312031\": np.pi/2,\n",
    "    \"32103210\": np.pi,\n",
    "    \"13021302\": 3*np.pi/2\n",
    "}\n",
    "\n",
    "input_message_symbols = unique_word + input_message_symbols\n",
    "\n",
    "bits_to_amplitude = {bit: amplitude for amplitude, bit in qpsk_constellation}\n",
    "\n",
    "# inphase channel symbol mapping\n",
    "xk = np.real([bits_to_amplitude[symbol] for symbol in input_message_symbols])\n",
    "\n",
    "# quadrature channel symbol mapping\n",
    "yk = np.imag([bits_to_amplitude[symbol] for symbol in input_message_symbols])\n",
    "\n",
    "# adding header to each channel\n",
    "header = [1,0] * 50\n",
    "xk = np.concatenate([header, xk])\n",
    "yk = np.concatenate([header, yk])"
   ]
  },
  {
   "cell_type": "markdown",
   "id": "37dec066-ee83-4ff4-8434-c724df8662e7",
   "metadata": {},
   "source": [
    "The input message now represented as constellation points is shown below."
   ]
  },
  {
   "cell_type": "code",
   "execution_count": null,
   "id": "dba84632-03df-4b43-bb26-9ba9808bf21c",
   "metadata": {},
   "outputs": [],
   "source": [
    "# plot original symbols\n",
    "plt.figure()\n",
    "plt.stem(yk[(len(header)+len(unique_word))*fs:(len(header)+len(unique_word)+5)*fs]])\n",
    "plt.title(\"Symbols [0:5]\")\n",
    "plt.xlabel(\"Sample Time [n]\")\n",
    "plt.ylabel(\"Amplitude [V]\")\n",
    "\n",
    "print(f\"\\nHeader Length: {len(header)} symbols\")\n",
    "print(f\"Unique Word Length: {len(unique_word)} symbols\")\n",
    "print(f\"Message Length: {len(xk)-len(unique_word)} symbols\")\n",
    "print(f\"Sample Rate: {fs} samples per symbol\")\n",
    "print(f\"Carrier Frequency: {fc} Hz\\n\")\n",
    "plt.show()"
   ]
  },
  {
   "cell_type": "markdown",
   "id": "372fad2e-321a-49e5-9b67-d74a1e57379e",
   "metadata": {},
   "source": [
    "Next upsampling is perfored using the predefined sample rate."
   ]
  },
  {
   "cell_type": "code",
   "execution_count": null,
   "id": "51f85fdc-8c18-48aa-995c-88870cbc8bf5",
   "metadata": {},
   "outputs": [],
   "source": [
    "xk_upsampled = sp.upsample(xk, fs, interpolate_flag=False)\n",
    "yk_upsampled = sp.upsample(yk, fs, interpolate_flag=False)"
   ]
  },
  {
   "cell_type": "code",
   "execution_count": null,
   "id": "d9e22f7c-cefa-46ea-9ce7-620436a8df30",
   "metadata": {},
   "outputs": [],
   "source": [
    "# plot upsampled symbols\n",
    "plt.figure()\n",
    "plt.stem(yk_upsampled[(len(header)+len(unique_word))*fs:(len(header)+len(unique_word)+5)*fs])\n",
    "plt.title(\"Upsampled Symbols\")\n",
    "plt.xlabel(\"Sample Time [n]\")\n",
    "plt.ylabel(\"Amplutide [V]\")\n",
    "plt.show()"
   ]
  },
  {
   "cell_type": "markdown",
   "id": "5a8650eb-656e-45d0-8b22-ea14cb4ed73e",
   "metadata": {},
   "source": [
    "Similarily to as done in the *SCS.ipynb* notebook, a timing offset is introduced to the upsampled symbols."
   ]
  },
  {
   "cell_type": "code",
   "execution_count": null,
   "id": "0d2b71a6-8206-407d-9f18-b6fa81a01ed2",
   "metadata": {},
   "outputs": [],
   "source": [
    "timing_offset = 0.0\n",
    "sample_shift = 0\n",
    "\n",
    "xk_upsampled = sp.clock_offset(xk_upsampled, fs, timing_offset)[sample_shift:]\n",
    "yk_upsampled = sp.clock_offset(yk_upsampled, fs, timing_offset)[sample_shift:]"
   ]
  },
  {
   "cell_type": "code",
   "execution_count": null,
   "id": "9d1913c4-2ac8-4cee-970a-b503f386164a",
   "metadata": {},
   "outputs": [],
   "source": [
    "# plot upsampled symbols\n",
    "plt.figure()\n",
    "plt.stem(yk_upsampled[(len(header)+len(unique_word))*fs:(len(header)+len(unique_word)+5)*fs])\n",
    "plt.title(\"Upsampled Symbols\")\n",
    "plt.xlabel(\"Sample Time [n]\")\n",
    "plt.ylabel(\"Amplutide [V]\")\n",
    "plt.show()"
   ]
  },
  {
   "cell_type": "markdown",
   "id": "4eabeee8-267b-4208-9bfc-aced6b8270f6",
   "metadata": {},
   "source": [
    "Pulse shaping is now applied to the upsampled signal."
   ]
  },
  {
   "cell_type": "code",
   "execution_count": null,
   "id": "ebfcf484-53ec-4e81-9b51-3b8777bcfe3e",
   "metadata": {},
   "outputs": [],
   "source": [
    "length = 64\n",
    "alpha = 0.10\n",
    "pulse_shape = communications.srrc(alpha, fs, length)\n",
    "\n",
    "xk_pulse_shaped = np.real(np.roll(sp.convolve(xk_upsampled, pulse_shape, mode=\"same\"), -1))\n",
    "yk_pulse_shaped = np.real(np.roll(sp.convolve(yk_upsampled, pulse_shape, mode=\"same\"), -1))"
   ]
  },
  {
   "cell_type": "markdown",
   "id": "4c1cf7d5-f3d6-48d2-9d00-0d38a4a592f6",
   "metadata": {},
   "source": [
    "print(f\"\\nFilter Length: {length} samples\")\n",
    "print(f\"Message Length: {alpha} percent\")\n",
    "print(f\"Sample Rate: {fs} samples per symbol\\n\")\n",
    "\n",
    "# plot pulse shaped signal\n",
    "plt.figure()\n",
    "plt.stem(yk_pulse_shaped[(len(header)+len(unique_word))*fs:(len(header)+len(unique_word)+5)*fs])\n",
    "plt.title(\"Pulse Shaped Signal\")\n",
    "plt.xlabel(\"Sample Time [n]\")\n",
    "plt.ylabel(\"Amplutide [V]\")\n",
    "plt.show()"
   ]
  },
  {
   "cell_type": "markdown",
   "id": "556008df-bdbd-4cbd-80ad-1a1c20ef3de1",
   "metadata": {},
   "source": [
    "During modulation, a frequency of phase offset can be added to introduce a synchronization error between the local oscillators in the transmitter and receiver systems."
   ]
  },
  {
   "cell_type": "code",
   "execution_count": null,
   "id": "475dc13c-5eb3-4eb3-837a-653b3a55ab08",
   "metadata": {},
   "outputs": [],
   "source": [
    "fc_offset = 0.0\n",
    "phase_offset = 0\n",
    "\n",
    "s_rf = (\n",
    "    np.sqrt(2) * np.real(DSP.modulate_by_exponential(xk_pulse_shaped, fc + fc_offset, fs)) +\n",
    "    np.sqrt(2) * np.imag(DSP.modulate_by_exponential(yk_pulse_shaped, fc + fc_offset, fs))\n",
    ") * np.exp(1j * phase_offset)"
   ]
  },
  {
   "cell_type": "code",
   "execution_count": null,
   "id": "722a2e9d-fb99-46da-927f-052ee0484235",
   "metadata": {},
   "outputs": [],
   "source": [
    "# plot modulated RF signal\n",
    "plt.figure()\n",
    "plt.stem(s_rf[(len(header)+len(unique_word))*fs:(len(header)+len(unique_word)+5)*fs])\n",
    "plt.title(\"Modulated Signal\")\n",
    "plt.xlabel(\"Sample Time [n]\")\n",
    "plt.ylabel(\"Amplutide [V]\")\n",
    "plt.show()"
   ]
  },
  {
   "cell_type": "markdown",
   "id": "0764ae13-2673-404e-ae93-9daa30ee4469",
   "metadata": {},
   "source": [
    "#### QPSK Receiver\n",
    "\n",
    "The QPSK receiver architecture including the PLL and SCS subsytems is described below. The first stage in this sequential toolchain is the demodulation of the received radio frequency signal."
   ]
  },
  {
   "cell_type": "code",
   "execution_count": null,
   "id": "bc9eae28-bc0d-43a9-8a59-89c8c94325ac",
   "metadata": {},
   "outputs": [],
   "source": [
    "xr_nT = np.sqrt(2) * np.real(DSP.modulate_by_exponential(s_rf, fc, fs))\n",
    "yr_nT = np.sqrt(2) * np.imag(DSP.modulate_by_exponential(s_rf, fc, fs))"
   ]
  },
  {
   "cell_type": "code",
   "execution_count": null,
   "id": "feb83d2f-79e2-465f-af06-2e5f0079d95d",
   "metadata": {},
   "outputs": [],
   "source": [
    "# plot demodulated signal\n",
    "plt.figure()\n",
    "plt.stem(yr_nT[(len(header)+len(unique_word))*fs:(len(header)+len(unique_word)+5)*fs])\n",
    "plt.title(\"Demodulated Signal\")\n",
    "plt.xlabel(\"Sample Time [n]\")\n",
    "plt.ylabel(\"Amplutide [V]\")\n",
    "plt.show()"
   ]
  },
  {
   "cell_type": "markdown",
   "id": "1942c998-906d-4038-a0a2-6a9eb3492915",
   "metadata": {},
   "source": [
    "The next step is match filtering."
   ]
  },
  {
   "cell_type": "code",
   "execution_count": null,
   "id": "9af6b4a7-9b75-4642-8656-b79e31a7ee09",
   "metadata": {},
   "outputs": [],
   "source": [
    "xr_nT_match_filtered = np.real(np.roll(DSP.convolve(xr_nT, pulse_shape, mode=\"same\"), -1))\n",
    "yr_nT_match_filtered = np.real(np.roll(DSP.convolve(yr_nT, pulse_shape, mode=\"same\"), -1))"
   ]
  },
  {
   "cell_type": "code",
   "execution_count": null,
   "id": "73031d0c-bac2-4ff8-a717-d34cfdbae14d",
   "metadata": {},
   "outputs": [],
   "source": [
    "# plot match filtered signal\n",
    "plt.figure()\n",
    "plt.stem(yr_nT_match_filtered[(len(header)+len(unique_word))*fs:(len(header)+len(unique_word)+5)*fs])\n",
    "plt.title(\"Match Filtered Signal\")\n",
    "plt.xlabel(\"Sample Time [n]\")\n",
    "plt.ylabel(\"Amplutide [V]\")\n",
    "plt.show()"
   ]
  },
  {
   "cell_type": "markdown",
   "id": "b67d8a38-bd7e-41da-ae8f-4b92d6e41820",
   "metadata": {},
   "source": [
    "The SCS subsystem expects 2 samples per symbol as input therefore the downsampling operation will look as follows."
   ]
  },
  {
   "cell_type": "code",
   "execution_count": null,
   "id": "56014cc9-baeb-4387-a18a-b2dbd07a3eed",
   "metadata": {},
   "outputs": [],
   "source": [
    "xr_nT_downsampled = DSP.downsample(xr_nT_match_filtered, int(fs/2))\n",
    "yr_nT_downsampled = DSP.downsample(yr_nT_match_filtered, int(fs/2))\n",
    "r_nT = (xr_nT_downsampled + 1j* yr_nT_downsampled)"
   ]
  },
  {
   "cell_type": "code",
   "execution_count": null,
   "id": "50b08829-edb7-4a88-8d5b-007e4ed91399",
   "metadata": {},
   "outputs": [],
   "source": [
    "# plot downsampled by N/2 signal\n",
    "plt.figure()\n",
    "plt.stem(yr_nT_downsampled[(len(header)+len(unique_word))*2:(len(header)+len(unique_word)+5)*2])\n",
    "plt.title(\"Downsampled by N/2 Signal\")\n",
    "plt.xlabel(\"Sample Time [n]\")\n",
    "plt.ylabel(\"Amplutide [V]\")\n",
    "plt.show()"
   ]
  },
  {
   "cell_type": "markdown",
   "id": "9fb47d92-58d0-4063-96ed-7eb4513ed4cf",
   "metadata": {},
   "source": [
    "#### Measuing SCS and PLL Gain\n",
    "\n",
    "A loop bandwidth and damping factor are defined for both the PLL and SCS subsytems then each are run on the raw input samples to measure the maximum loop filter outputs. This maximum value for each will be used to normalize there output and is shown as the gain factor $G$ in each of the module diagrams. This process is demonstrated below."
   ]
  },
  {
   "cell_type": "code",
   "execution_count": null,
   "id": "4c4a2c49-05be-434b-a58e-e57dd4d54001",
   "metadata": {},
   "outputs": [],
   "source": [
    "pll_loop_bandwidth = (fc/fs) * 0.2\n",
    "pll_damping_factor = 1/np.sqrt(2)\n",
    "\n",
    "scs_loop_bandwidth = (fc/fs) * 0.03\n",
    "scs_damping_factor = 1/np.sqrt(2)\n",
    "\n",
    "pll = PLL(sample_rate=2, loop_bandwidth=pll_loop_bandwidth, damping_factor=pll_damping_factor, open_loop=True)\n",
    "scs = SCS(samples_per_symbol=2, loop_bandwidth=scs_loop_bandwidth, damping_factor=scs_damping_factor, open_loop=True)"
   ]
  },
  {
   "cell_type": "code",
   "execution_count": null,
   "id": "57892d6a-f0c2-495e-bb8d-98953adb1ba2",
   "metadata": {},
   "outputs": [],
   "source": [
    "pll_max_lf_output = 0\n",
    "scs_max_lf_output = 0\n",
    "for i in range(len(r_nT)):\n",
    "    pll_lf_output = pll.insert_new_sample(r_nT[i], i)\n",
    "    scs_lf_output = scs.insert_new_sample(r_nT[i])\n",
    "\n",
    "    if pll_lf_output > pll_max_lf_output:\n",
    "        pll_max_lf_output = pll_lf_output\n",
    "\n",
    "    if scs_lf_output > scs_max_lf_output:\n",
    "        scs_max_lf_output = scs_lf_output\n",
    "\n",
    "pll_gain = pll_max_lf_output\n",
    "scs_gain = 1/scs_max_lf_output\n",
    "\n",
    "print(f\"\\nPLL Measured System Gain: {pll_gain}\\n\")\n",
    "print(f\"\\nSCS Measured System Gain: {scs_gain}\\n\")"
   ]
  },
  {
   "cell_type": "markdown",
   "id": "0148afe7-ca2a-48ec-93eb-f021ca5d71b1",
   "metadata": {},
   "source": [
    "The PLL and SCS modules are then reinstantiated using the measured gain values for each and run using the input samples. A number of arrays are also defined to track internal records throughout the simulation."
   ]
  },
  {
   "cell_type": "markdown",
   "id": "ad8d5a75-2785-446e-a623-e84401cda056",
   "metadata": {},
   "source": [
    "pll = PLL(sample_rate=2, loop_bandwidth=pll_loop_bandwidth, damping_factor=pll_damping_factor, gain=pll_gain)\n",
    "scs = SCS(samples_per_symbol=2, loop_bandwidth=scs_loop_bandwidth, damping_factor=scs_damping_factor, gain=scs_gain, invert=True)\n",
    "\n",
    "detected_constellations = []\n",
    "rotated_corrected_constellations = []\n",
    "pll_error_record = []\n",
    "\n",
    "dds_output = np.exp(1j * 0) # initial pll rotation"
   ]
  },
  {
   "cell_type": "code",
   "execution_count": null,
   "id": "b91aa376-d58d-4f73-8c83-2e799a7e157b",
   "metadata": {},
   "outputs": [],
   "source": [
    "for i in range(len(r_nT)):\n",
    "    # perform ccw rotation\n",
    "    r_nT_ccwr = r_nT[i] * dds_output * np.exp(1j * uw_offset)\n",
    "\n",
    "    # correct clock offset\n",
    "    corrected_constellation = scs.insert_new_sample(r_nT_ccwr)\n",
    "    if corrected_constellation is not None:\n",
    "        rotated_corrected_constellations.append(corrected_constellation)\n",
    "\n",
    "        # phase error calculation\n",
    "        detected_symbol = communications.nearest_neighbor([corrected_constellation], qpsk_constellation)[0]\n",
    "        detected_constellation = bits_to_amplitude[detected_symbol]\n",
    "        detected_constellations.append(detected_constellation)\n",
    "        \n",
    "        # update unquie word register\n",
    "        uw_register.pop(0)\n",
    "        uw_register.append(str(detected_symbol))\n",
    "\n",
    "        if uw_flag == False:\n",
    "            received_unique_word = check_unique_word(uw_register)\n",
    "            if received_unique_word is not None:\n",
    "                uw_offset = received_unique_word\n",
    "                uw_flag = True\n",
    "        \n",
    "        # calculating phase error\n",
    "        phase_error = pll.phase_detector(corrected_constellation, detected_constellation)\n",
    "        pll_error_record.append(phase_error)\n",
    "\n",
    "        # feed into loop filter\n",
    "        loop_filter_output = pll.loop_filter(phase_error)\n",
    "\n",
    "        # generate next dds output\n",
    "        dds_output = np.exp(1j * loop_filter_output)"
   ]
  },
  {
   "cell_type": "markdown",
   "id": "82e77dca-9f08-438f-9444-699e0588edaa",
   "metadata": {},
   "source": [
    "The simulation results and internal records are plotted below."
   ]
  },
  {
   "cell_type": "code",
   "execution_count": null,
   "id": "82393eec-5d86-4fa8-b8bb-5c62a5d6c160",
   "metadata": {},
   "outputs": [],
   "source": [
    "print(f\"Phase Ambiguity Rotation: {np.degrees(uw_offset)} deg\\n\")\n",
    "plt.figure()\n",
    "plt.plot(pll_error_record, label='Phase Error', color='r')\n",
    "plt.title('Phase Error')\n",
    "plt.xlabel('Sample Index')\n",
    "plt.ylabel('Phase Error (radians)')\n",
    "plt.grid()\n",
    "plt.show()\n",
    "\n",
    "plt.title(\"PLL Output Constellations\")\n",
    "plt.plot(np.real(rotated_corrected_constellations), np.imag(rotated_corrected_constellations), 'ro', label=\"Rotated Constellations\")\n",
    "plt.plot(np.real(detected_constellations), np.imag(detected_constellations), 'bo',  label=\"Esteimated Constellations\")\n",
    "plt.legend()\n",
    "plt.grid(True)\n",
    "plt.show()"
   ]
  },
  {
   "cell_type": "markdown",
   "id": "220bab44-b3e5-45ab-97d1-b65d3df9a8b1",
   "metadata": {},
   "source": [
    "The now downsampled to 1 sample per symbol receive signal is ready to be mapped back from constellation points to symbols via a nearest neighbor algorithm. TALK ABOUT SCS OFFSET!"
   ]
  },
  {
   "cell_type": "code",
   "execution_count": null,
   "id": "721f163d-5b17-4ee4-bea2-842e759e28c4",
   "metadata": {},
   "outputs": [],
   "source": [
    "detected_symbols = communications.nearest_neighbor(detected_constellations[len(header)+len(unique_word)+1:], qpsk_constellation)\n",
    "\n",
    "error_count = error_count(input_message_symbols[len(unique_word):], detected_symbols)\n",
    "print(f\"Transmission Symbol Errors: {error_count}\")\n",
    "print(f\"Bit Error Percentage: {round((error_count * 2) / len(detected_symbols), 2)} %\")"
   ]
  },
  {
   "cell_type": "markdown",
   "id": "d053943c-40f7-431d-8b16-1a88b6f5c7c3",
   "metadata": {},
   "source": [
    "Finally, the estimated receive symbols can now be converted back to binary representations and then grouped into ascii characters."
   ]
  },
  {
   "cell_type": "code",
   "execution_count": null,
   "id": "1286b2db-c7d3-4630-a377-b729fbcf19bb",
   "metadata": {},
   "outputs": [],
   "source": [
    "detected_bits = []\n",
    "for symbol in detected_symbols:\n",
    "    detected_bits += ([*bin(symbol)[2:].zfill(2)])\n",
    "\n",
    "message = communications.bin_to_char(detected_bits)\n",
    "print(message)"
   ]
  }
 ],
 "metadata": {
  "kernelspec": {
   "display_name": "Python 3 (ipykernel)",
   "language": "python",
   "name": "python3"
  },
  "language_info": {
   "codemirror_mode": {
    "name": "ipython",
    "version": 3
   },
   "file_extension": ".py",
   "mimetype": "text/x-python",
   "name": "python",
   "nbconvert_exporter": "python",
   "pygments_lexer": "ipython3",
   "version": "3.12.5"
  }
 },
 "nbformat": 4,
 "nbformat_minor": 5
}
