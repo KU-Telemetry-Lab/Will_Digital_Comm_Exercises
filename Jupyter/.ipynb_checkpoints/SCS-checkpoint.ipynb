{
 "cells": [
  {
   "cell_type": "markdown",
   "metadata": {},
   "source": [
    "#### THINGS TO ADD\n"
   ]
  },
  {
   "cell_type": "markdown",
   "metadata": {},
   "source": [
    "#### SCS Implementation\n",
    "\n",
    "The following outlines the symbol clock synchronizer (SCS) subsystem used in communications systems with non-coherent transmitter and receiver architectures. This highlights the various submodules needed to correct clock offsets and explains their internal functionalities. While a phase-locked loop (PLL) can track the envelope, the analog-to-digital converter produces a sampled version of the received signal that has no coherence with the ideal symbol times. The SCS addresses the small clock offsets needed to be made in order to sample at the optimal rate allowing for synchronization to be reintroduced between the transmitter and receiver. Figure 1 below displays the different SCS submodules and their placement in the overall system.\n",
    "\n",
    "SCS SUBMODULE DIAGRAM\n",
    "<!-- <div style=\"text-align: center;\">\n",
    "    <img src=\"./images/QPSK/transmitter_receiver_diagram.png\" alt=\"\" width=\"750\" />\n",
    "    <p>QPSK System Transmitter and Receiver Architecture</p>\n",
    "</div> -->"
   ]
  },
  {
   "cell_type": "markdown",
   "metadata": {},
   "source": [
    "#### Imports and Library Functions\n",
    "\n",
    "talk about library and imports here"
   ]
  },
  {
   "cell_type": "code",
   "execution_count": 1,
   "metadata": {},
   "outputs": [],
   "source": [
    "from helper_functions import sp_library as sp\n",
    "import numpy as np \n",
    "import matplotlib.pyplot as plt"
   ]
  },
  {
   "cell_type": "markdown",
   "metadata": {},
   "source": [
    "#### Downsampling\n",
    "The SCS subsystem as a whole expects two samples per symbol as input and produces one sample per symbol, adjusted to the ideal sample time, as output. As seen in Figure 1, the incoming receive signal is currently sampled at $N$ samples per symbol therefore downsampling by $\\frac{N}{2}$ is required. This process is defined below\n",
    "\n",
    "$$\n",
    "x\\left(nT_s\\right)\\:\\rightarrow \\:\\:x_{downsampled}\\left(nT_s\\cdot \\:\\frac{N}{2}\\right)\n",
    "$$\n",
    "\n",
    "where:\n",
    "- $T_s$ is the system sample rate corresponding to N samples per symbol,\n",
    "- $N/2$ is the downsampling rate required to obtain a resulting 2 samples per symbol."
   ]
  },
  {
   "cell_type": "code",
   "execution_count": null,
   "metadata": {},
   "outputs": [],
   "source": [
    "# downsampling code here"
   ]
  },
  {
   "cell_type": "markdown",
   "metadata": {},
   "source": [
    "#### Interpolator\n",
    "The interpolator module takes in the receive signal represented by 2 samples per symbol aswell as a calculated timing adjustment and produces a offset sample corresponding to the optimal sample time. This new sample is produced via approximating a parabolic interpolation of the current input sample, as well as the previous and next interpolation outputs in which the corresponding optimal sample is returned. This process is demonstrated below in Figure X.\n",
    "\n",
    "INTERPOLATION PLOT\n",
    "\n",
    "The internal architecture of the module follows a farrow filter structure seen below in which the output is then derived in Equation X.\n",
    "\n",
    "INTERPOLATION ARCHITECTURE DIAGRAM\n",
    "\n",
    "INTERPOLATION EQUATION HERE"
   ]
  },
  {
   "cell_type": "code",
   "execution_count": null,
   "metadata": {},
   "outputs": [],
   "source": [
    "# interpolation code here"
   ]
  },
  {
   "cell_type": "markdown",
   "metadata": {},
   "source": [
    "#### Early-Late Timing Error Detector\n",
    "The early-late timing error detector (TED) module relies on three samples as input to calculate a proportionate timing adjustment. This includes the previous, current, and next sample which are stored in a register with three memory locations. The late sample value is subtracted from the early sample to approximate a derivative of the current sample. This approximation is then multiplied by the sign of the current sample to account for ambiguities between positive and negative valued pulses which results in the proportionate timing adjustment to made in order to obtain the sample at the optimal sampling time, i.e. sampling at the peak of the pulse. This process is shown below in Figure X and equation X.\n",
    "\n",
    "TED SAMPLE ERROR CALC DIAGRAM\n",
    "\n",
    "$$\n",
    "e\\left(k\\right)=sgn\\left\\{x\\left(k\\right)\\right\\}\\cdot \\left[x\\left(k+1\\right)-x\\left(k-1\\right)\\right]\n",
    "$$\n",
    "\n",
    "where:\n",
    "- $x(k)$ represents the current sample,\n",
    "- $x(k+1)$ represents the next sample,\n",
    "- $x(k-1)$ represents the previous sample.\n",
    "\n",
    "This calculation can be made for the real or imaginary channels in a quadrature system as it is assumed that the same ADC was used for discretization and therefore the two channels are synchronized. The following excerpt shows the timing error detector implementation used later in the full SCS subsystem."
   ]
  },
  {
   "cell_type": "code",
   "execution_count": 4,
   "metadata": {},
   "outputs": [
    {
     "name": "stdout",
     "output_type": "stream",
     "text": [
      "\n",
      "Calculated Clock Offset: -1.0\n",
      "\n"
     ]
    }
   ],
   "source": [
    "def early_late_ted(early_sample, current_sample, late_sample):\n",
    "        e_nT = (late_sample - early_sample) * (-1 if current_sample < 0 else 1)\n",
    "        return e_nT\n",
    "\n",
    "# test sample inputs\n",
    "early_sample = 1.0\n",
    "current_sample = -0.5\n",
    "late_sample = 2.0\n",
    "\n",
    "ted_output = early_late_ted(early_sample, current_sample, late_sample)\n",
    "print(f\"\\nCalculated Clock Offset: {ted_output}\\n\")"
   ]
  },
  {
   "cell_type": "markdown",
   "metadata": {},
   "source": [
    "#### Loop Filter\n",
    "The loop filter module provides stability for the overall SCS sstem by shaping the transient response of the system as well as adjusting the gain applied to the proportional timing error detector output. During instantiation of the SCS system, a loop bandwidth and damping factor are defined as parameters shaping this transient response in which the loop bandwidth specifies the speed at which the SCS will converge towards zeroing the received symbol clock offset. Setting a wider loop bandwidth allows the SCS to respond more rapidly respond to different clock offsets but introduces more internal noise. The damping factor specifies how the oscillations decay in the transient response when a input frequency change is introduced. Together these parameters categorize the loop filter coefficients $K_1$ and $K_2$. *The gain of the system adjusts the output of the loopfilter and represents the step size to be made when adjusting the interpolator via the calculated timing offset. This parameter is set via running the timing error detector and loop filter in a open loop test in which the largest output is then used as the gain to normalize the loop filter output to one.*\n",
    "\n",
    "LOOP FILTER DIAGRAM HERE\n",
    "\n",
    "$$\n",
    "K_1 = \\frac{4 \\xi \\left( \\frac{B_n T_s}{\\zeta + \\frac{1}{4 \\zeta}} \\right)}{1 + 2 \\zeta \\left( \\frac{B_{nT} T_s}{\\zeta + \\frac{1}{4 \\zeta}} \\right) + \\left( \\frac{B_{nT} T_s}{\\zeta + \\frac{1}{4 \\zeta}} \\right)^2} \\quad \\quad \\quad K_2 = \\frac{4 \\left( \\frac{B_n T_s}{\\zeta + \\frac{1}{4 \\zeta}} \\right)^2}{1 + 2 \\zeta \\left( \\frac{B_{nT} T_s}{\\zeta + \\frac{1}{4 \\zeta}} \\right) + \\left( \\frac{B_{nT} T_s}{\\zeta + \\frac{1}{4 \\zeta}} \\right)^2}\n",
    "$$\n",
    "\n",
    "where:\n",
    "- $B_n$ represents the loop bandwidth (usually normalized for the sample rate $f_s$),\n",
    "- $\\zeta$ represents the damping factor,\n",
    "- $T_s$ is the sampling period of the system."
   ]
  },
  {
   "cell_type": "code",
   "execution_count": 4,
   "metadata": {},
   "outputs": [
    {
     "name": "stdout",
     "output_type": "stream",
     "text": [
      "\n",
      " Loop Filter Configuration Parameters\n",
      "Sample Rate: 8\n",
      "Loop Bandwidth: 0.16\n",
      "Damping Factor: 0.70711\n",
      "Loop Filter Coefficient K1: 0.05193\n",
      "Loop Filter Coefficient K2: 0.00035\n",
      "\n"
     ]
    }
   ],
   "source": [
    "def compute_loop_constants(fs, lb, df):\n",
    "    denominator = 1 + ((2 * df) * ((lb * (1 / fs)) / (df + (1 / (4 * df))))) + ((lb * (1 / fs)) / (df + (1 / (4 * df)))) ** 2\n",
    "    K1 = ((4 * df) * ((lb * (1 / fs)) / (df + (1 / (4 * df))))) / denominator\n",
    "    K2 = (((lb * (1 / fs)) / (df + (1 / (4 * df)))) ** 2) / denominator\n",
    "    return K1, K2\n",
    "\n",
    "sample_rate = 8\n",
    "loop_bandwidth = 0.02 * sample_rate\n",
    "damping_factor = 1 / np.sqrt(2)\n",
    "k1, k2 = compute_loop_constants(sample_rate, loop_bandwidth, damping_factor)\n",
    "\n",
    "print(\"\\n Loop Filter Configuration Parameters\")\n",
    "print(f\"Sample Rate: {sample_rate}\")\n",
    "print(f\"Loop Bandwidth: {loop_bandwidth}\")\n",
    "print(f\"Damping Factor: {np.round(damping_factor, 5)}\")\n",
    "print(f\"Loop Filter Coefficient K1: {np.round(k1, 5)}\")\n",
    "print(f\"Loop Filter Coefficient K2: {np.round(k2, 5)}\\n\")"
   ]
  },
  {
   "cell_type": "markdown",
   "metadata": {},
   "source": [
    "#### Mod-1 Decrementing Counter\n",
    "The decrementing mod-1 counter is used specifically because of the 2 samples per symbol input rate. This module tracks when to perform a new timing offset calculation as well as when to select a sample at the sub system output. Given a initial value, the decrementor decreases by $frac{1}{2}$ each input sample adjusted by the loop filter output. As soon as the value of the decrementor becomes negative a strobe occurs indicating to the system that the current sample corresponds to a pulse peak and should be adjusted and output. The internal functionality of the module is shown below in Figure X. \n",
    "\n",
    "DECREMENTING COUNTER DIAGRAM\n",
    "\n",
    "$$\n",
    "m\\left(k\\right)=m\\left(k-1\\right)\\:-\\:\\left(\\frac{1}{2}+v\\left(k\\right)\\right)\n",
    "$$\n",
    "\n",
    "where:\n",
    "- $m(k)$ is the current counter value,\n",
    "- $m(k-1)$ is the previous counter value,\n",
    "- $v(k)$ is the loop filter output.\n",
    "\n",
    "The following excerpt shows the decrementing mod-1 counter implementation used later in the full SCS subsystem."
   ]
  },
  {
   "cell_type": "code",
   "execution_count": null,
   "metadata": {},
   "outputs": [],
   "source": [
    "# decrementing mod-1 counter code here"
   ]
  },
  {
   "cell_type": "markdown",
   "metadata": {},
   "source": []
  }
 ],
 "metadata": {
  "kernelspec": {
   "display_name": "Python 3 (ipykernel)",
   "language": "python",
   "name": "python3"
  },
  "language_info": {
   "codemirror_mode": {
    "name": "ipython",
    "version": 3
   },
   "file_extension": ".py",
   "mimetype": "text/x-python",
   "name": "python",
   "nbconvert_exporter": "python",
   "pygments_lexer": "ipython3",
   "version": "3.12.4"
  }
 },
 "nbformat": 4,
 "nbformat_minor": 4
}
