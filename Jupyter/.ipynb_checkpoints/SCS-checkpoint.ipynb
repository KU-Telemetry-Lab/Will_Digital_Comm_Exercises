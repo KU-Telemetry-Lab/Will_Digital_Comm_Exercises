{
 "cells": [
  {
   "cell_type": "markdown",
   "metadata": {},
   "source": [
    "#### THINGS TO ADD\n",
    "- debug interpolator code\n",
    "- fix center dot in constellation"
   ]
  },
  {
   "cell_type": "markdown",
   "metadata": {},
   "source": [
    "#### SCS Implementation\n",
    "\n",
    "The following outlines the symbol clock synchronizer (SCS) subsystem used in communications systems with non-coherent transmitter and receiver architectures. This highlights the various submodules needed to correct clock offsets and explains their internal functionalities. While a phase-locked loop (PLL) can track the envelope, the analog-to-digital converter produces a sampled version of the received signal that has no coherence with the ideal symbol times. The SCS addresses the small clock offsets needed to be made in order to sample at the optimal rate allowing for synchronization to be reintroduced between the transmitter and receiver. Figure 1 below displays the different SCS submodules and their placement in the overall system.\n",
    "\n",
    "<div style=\"text-align: center;\">\n",
    "    <img src=\"./images/SCS/scs_diagram.png\" alt=\"\" width=\"1000\" />\n",
    "    <p style=\"text-align: center;\">Figure 1: PLL Subsystem Diagram</p>\n",
    "</div>"
   ]
  },
  {
   "cell_type": "markdown",
   "metadata": {},
   "source": [
    "#### Imports and Library Functions\n",
    "\n",
    "talk about library and imports here"
   ]
  },
  {
   "cell_type": "code",
   "execution_count": 1,
   "metadata": {},
   "outputs": [],
   "source": [
    "from helper_functions import sp_library as sp\n",
    "import numpy as np \n",
    "import matplotlib.pyplot as plt"
   ]
  },
  {
   "cell_type": "markdown",
   "metadata": {},
   "source": [
    "#### Downsampling\n",
    "The SCS subsystem as a whole expects two samples per symbol as input and produces one sample per symbol, adjusted to the ideal sample time, as output. As seen in Figure 1, the incoming receive signal is currently sampled at $N$ samples per symbol therefore downsampling by $\\frac{N}{2}$ is required. This process is defined below\n",
    "\n",
    "$$\n",
    "x\\left(nT_s\\right)\\:\\rightarrow \\:\\:x_{downsampled}\\left(nT_s\\cdot \\:\\frac{N}{2}\\right)\n",
    "$$\n",
    "\n",
    "where:\n",
    "- $T_s$ is the system sample rate corresponding to N samples per symbol,\n",
    "- $N/2$ is the downsampling rate required to obtain a resulting 2 samples per symbol."
   ]
  },
  {
   "cell_type": "code",
   "execution_count": null,
   "metadata": {},
   "outputs": [],
   "source": [
    "# test input samples\n",
    "signal = np.array([1, 2, 3, 4, 5, 6, 7, 8, 9, 10])\n",
    "downsample_factor = 2\n",
    "\n",
    "# downsampling\n",
    "downsampled_signal = sp.downsample(signal, downsample_factor)\n",
    "\n",
    "plt.figure(figsize=(10, 5))\n",
    "plt.subplot(1, 2, 1)\n",
    "plt.stem(signal, basefmt=\" \", use_line_collection=True)\n",
    "plt.title(\"Original Signal\")\n",
    "plt.xlabel(\"Sample Index\")\n",
    "plt.ylabel(\"Amplitude\")\n",
    "plt.subplot(1, 2, 2)\n",
    "plt.stem(downsampled_signal, basefmt=\" \", use_line_collection=True)\n",
    "plt.title(\"Downsampled Signal\")\n",
    "plt.xlabel(\"Sample Index\")\n",
    "plt.ylabel(\"Amplitude\")\n",
    "\n",
    "plt.tight_layout()\n",
    "plt.show()"
   ]
  },
  {
   "cell_type": "markdown",
   "metadata": {},
   "source": [
    "#### Interpolator\n",
    "The interpolator module takes in the receive signal represented by 2 samples per symbol aswell as a calculated timing adjustment and produces a offset sample corresponding to the optimal sample time. This new sample is produced via approximating a parabolic interpolation of the current input sample, as well as the previous and next interpolation outputs in which the corresponding optimal sample is returned. This process is demonstrated below in Figure X.\n",
    "\n",
    "<div style=\"text-align: center;\">\n",
    "    <img src=\"./images/SCS/scs_interpolation_example.png\" alt=\"\" width=\"500\" />\n",
    "    <p style=\"text-align: center;\">Figure 1: PLL Subsystem Diagram</p>\n",
    "</div>\n",
    "\n",
    "The internal architecture of the module follows a farrow filter structure seen below in which the output is then derived in Equation X.\n",
    "\n",
    "<div style=\"text-align: center;\">\n",
    "    <img src=\"./images/SCS/scs_farrow_interpolator.png\" alt=\"\" width=\"600\" />\n",
    "    <p style=\"text-align: center;\">Figure 1: PLL Subsystem Diagram</p>\n",
    "</div>\n",
    "\n",
    "INTERPOLATION EQUATION HERE"
   ]
  },
  {
   "cell_type": "code",
   "execution_count": null,
   "metadata": {},
   "outputs": [],
   "source": [
    "# INTERPOLATION CODE HERE"
   ]
  },
  {
   "cell_type": "markdown",
   "metadata": {},
   "source": [
    "#### Early-Late Timing Error Detector\n",
    "The early-late timing error detector (TED) module relies on three samples as input to calculate a proportionate timing adjustment. This includes the previous, current, and next sample which are stored in a register with three memory locations. The late sample value is subtracted from the early sample to approximate a derivative of the current sample. This approximation is then multiplied by the sign of the current sample to account for ambiguities between positive and negative valued pulses which results in the proportionate timing adjustment to made in order to obtain the sample at the optimal sampling time, i.e. sampling at the peak of the pulse. This process is shown below in Figure X and equation X.\n",
    "\n",
    "<div style=\"text-align: center;\">\n",
    "    <img src=\"./images/SCS/scs_ted_example.png\" alt=\"\" width=\"500\" />\n",
    "    <p style=\"text-align: center;\">Figure 1: PLL Subsystem Diagram</p>\n",
    "</div>\n",
    "\n",
    "$$\n",
    "e\\left(kT_s\\right)=sgn\\left\\{x\\left(kTs\\right)\\right\\}\\cdot \\:\\left[x\\left(\\left(k+\\frac{1}{2}\\right)T_s\\right)-x\\left(k\\left(-\\frac{1}{2}\\right)T_s\\right)\\right]\n",
    "$$\n",
    "\n",
    "where:\n",
    "- $x(kT_s)$ represents the current sample,\n",
    "- $x\\left(\\left(k+\\frac{1}{2}\\right)T_s\\right)$ represents the next sample,\n",
    "- $x\\left(k\\left(-\\frac{1}{2}\\right)T_s\\right)$ represents the previous sample.\n",
    "\n",
    "This calculation can be made for the real or imaginary channels in a quadrature system as it is assumed that the same ADC was used for discretization and therefore the two channels are synchronized. The following excerpt shows the timing error detector implementation used later in the full SCS subsystem."
   ]
  },
  {
   "cell_type": "code",
   "execution_count": 4,
   "metadata": {},
   "outputs": [
    {
     "name": "stdout",
     "output_type": "stream",
     "text": [
      "\n",
      "Calculated Clock Offset: -1.0\n",
      "\n"
     ]
    }
   ],
   "source": [
    "def early_late_ted(early_sample, current_sample, late_sample):\n",
    "        e_nT = (late_sample - early_sample) * (-1 if current_sample < 0 else 1)\n",
    "        return e_nT\n",
    "\n",
    "# test sample inputs\n",
    "early_sample = 1.0\n",
    "current_sample = -0.5\n",
    "late_sample = 2.0\n",
    "\n",
    "ted_output = early_late_ted(early_sample, current_sample, late_sample)\n",
    "print(f\"\\nCalculated Clock Offset: {ted_output}\\n\")"
   ]
  },
  {
   "cell_type": "markdown",
   "metadata": {},
   "source": [
    "#### Loop Filter\n",
    "The loop filter module provides stability for the overall SCS sstem by shaping the transient response of the system as well as adjusting the gain applied to the proportional timing error detector output. During instantiation of the SCS system, a loop bandwidth and damping factor are defined as parameters shaping this transient response in which the loop bandwidth specifies the speed at which the SCS will converge towards zeroing the received symbol clock offset. Setting a wider loop bandwidth allows the SCS to respond more rapidly respond to different clock offsets but introduces more internal noise. The damping factor specifies how the oscillations decay in the transient response when a input frequency change is introduced. Together these parameters categorize the loop filter coefficients $K_1$ and $K_2$. *The gain of the system adjusts the output of the loopfilter and represents the step size to be made when adjusting the interpolator via the calculated timing offset. This parameter is set via running the timing error detector and loop filter in a open loop test in which the largest output is then used as the gain to normalize the loop filter output to one.*\n",
    "\n",
    "<div style=\"text-align: center;\">\n",
    "    <img src=\"./images/SCS/scs_loop_filter_diagram.png\" alt=\"\" width=\"500\" />\n",
    "    <p style=\"text-align: center;\">Figure 1: PLL Subsystem Diagram</p>\n",
    "</div>\n",
    "\n",
    "$$\n",
    "K_1 = \\frac{4 \\xi \\left( \\frac{B_n T_s}{\\zeta + \\frac{1}{4 \\zeta}} \\right)}{1 + 2 \\zeta \\left( \\frac{B_{nT} T_s}{\\zeta + \\frac{1}{4 \\zeta}} \\right) + \\left( \\frac{B_{nT} T_s}{\\zeta + \\frac{1}{4 \\zeta}} \\right)^2} \\quad \\quad \\quad K_2 = \\frac{4 \\left( \\frac{B_n T_s}{\\zeta + \\frac{1}{4 \\zeta}} \\right)^2}{1 + 2 \\zeta \\left( \\frac{B_{nT} T_s}{\\zeta + \\frac{1}{4 \\zeta}} \\right) + \\left( \\frac{B_{nT} T_s}{\\zeta + \\frac{1}{4 \\zeta}} \\right)^2}\n",
    "$$\n",
    "\n",
    "where:\n",
    "- $B_n$ represents the loop bandwidth (usually normalized for the sample rate $f_s$),\n",
    "- $\\zeta$ represents the damping factor,\n",
    "- $T_s$ is the sampling period of the system."
   ]
  },
  {
   "cell_type": "code",
   "execution_count": 4,
   "metadata": {},
   "outputs": [
    {
     "name": "stdout",
     "output_type": "stream",
     "text": [
      "\n",
      " Loop Filter Configuration Parameters\n",
      "Sample Rate: 8\n",
      "Loop Bandwidth: 0.16\n",
      "Damping Factor: 0.70711\n",
      "Loop Filter Coefficient K1: 0.05193\n",
      "Loop Filter Coefficient K2: 0.00035\n",
      "\n"
     ]
    }
   ],
   "source": [
    "def compute_loop_constants(fs, lb, df):\n",
    "    denominator = 1 + ((2 * df) * ((lb * (1 / fs)) / (df + (1 / (4 * df))))) + ((lb * (1 / fs)) / (df + (1 / (4 * df)))) ** 2\n",
    "    K1 = ((4 * df) * ((lb * (1 / fs)) / (df + (1 / (4 * df))))) / denominator\n",
    "    K2 = (((lb * (1 / fs)) / (df + (1 / (4 * df)))) ** 2) / denominator\n",
    "    return K1, K2\n",
    "\n",
    "sample_rate = 8\n",
    "loop_bandwidth = 0.02 * sample_rate\n",
    "damping_factor = 1 / np.sqrt(2)\n",
    "k1, k2 = compute_loop_constants(sample_rate, loop_bandwidth, damping_factor)\n",
    "\n",
    "print(\"\\n Loop Filter Configuration Parameters\")\n",
    "print(f\"Sample Rate: {sample_rate}\")\n",
    "print(f\"Loop Bandwidth: {loop_bandwidth}\")\n",
    "print(f\"Damping Factor: {np.round(damping_factor, 5)}\")\n",
    "print(f\"Loop Filter Coefficient K1: {np.round(k1, 5)}\")\n",
    "print(f\"Loop Filter Coefficient K2: {np.round(k2, 5)}\\n\")"
   ]
  },
  {
   "cell_type": "markdown",
   "metadata": {},
   "source": [
    "#### Mod-1 Decrementing Counter\n",
    "The decrementing mod-1 counter is used specifically because of the 2 samples per symbol input rate. This module tracks when to perform a new timing offset calculation as well as when to select a sample at the sub system output. Given a initial value, the decrementor decreases by $\\frac{1}{2}$ each input sample adjusted by the loop filter output. As soon as the value of the decrementor becomes negative a strobe occurs indicating to the system that the current sample corresponds to a pulse peak and should be adjusted and output. The internal functionality of the module is shown below in Figure X. \n",
    "\n",
    "<div style=\"text-align: center;\">\n",
    "    <img src=\"./images/SCS/scs_mod_counter.png\" alt=\"\" width=\"500\" />\n",
    "    <p style=\"text-align: center;\">Figure 1: PLL Subsystem Diagram</p>\n",
    "</div>\n",
    "\n",
    "where:\n",
    "- $m(k)$ is the current counter value,\n",
    "- $m(k-1)$ is the previous counter value,\n",
    "- $v(k)$ is the loop filter output.\n",
    "\n",
    "The following excerpt shows the decrementing mod-1 counter implementation used later in the full SCS subsystem."
   ]
  },
  {
   "cell_type": "code",
   "execution_count": 19,
   "metadata": {},
   "outputs": [
    {
     "name": "stdout",
     "output_type": "stream",
     "text": [
      "Starting Mod-1 Decrementing Counter Simulation:\n",
      "Current Counter Value: 0.49\n",
      "Strobe activated.\n",
      "Current Counter Value: 0.97\n",
      "Current Counter Value: 0.44\n",
      "Strobe activated.\n",
      "Current Counter Value: 0.92\n",
      "Current Counter Value: 0.41\n"
     ]
    }
   ],
   "source": [
    "def update_counter(counter, loop_filter_output):\n",
    "    # update the decrementing counter\n",
    "    counter -= (0.5 + loop_filter_output)\n",
    "    \n",
    "    # check if the counter is negative\n",
    "    if counter < 0:\n",
    "        print(\"Strobe activated.\")\n",
    "        counter = counter + 1  # mod 1\n",
    "    \n",
    "    return counter\n",
    "\n",
    "# test inputs\n",
    "loop_filter_outputs = [0.01, 0.02, 0.03, 0.02, 0.01]\n",
    "current_value = 1.0\n",
    "\n",
    "print(\"Starting Mod-1 Decrementing Counter Simulation:\")\n",
    "for output in loop_filter_outputs:\n",
    "    current_value = update_counter(current_value, output)\n",
    "    print(f\"Current Counter Value: {current_value:.2f}\")\n"
   ]
  },
  {
   "cell_type": "markdown",
   "metadata": {},
   "source": [
    "#### Clock Offset Calculation\n",
    "Using the current mod-1 decrementing counter and loop filter outputs the timing offset fed into the interpolator module is produced. When the decrementing counter strobe is activated, the previous counter value is divided by the adjusted loop filter output (see full system diagram). The resulting value is then used to perform the interpolation. This calculation is derived below.\n",
    "\n",
    "$$\n",
    "\\mu \\left(k\\right)=\\frac{m\\left(k-1\\right)}{w\\left(k\\right)}\n",
    "$$\n",
    "\n",
    "where:\n",
    "- $\\mu(k)$ is the produced clock offset,\n",
    "- $m(k-1)$ is the previous decrementing counter output,\n",
    "- $w(k)$ is the adjusted loop filter output.\n",
    "\n",
    "The following excerpt shows the decrementing mod-1 counter implementation used later in the full SCS subsystem."
   ]
  },
  {
   "cell_type": "code",
   "execution_count": 23,
   "metadata": {},
   "outputs": [
    {
     "name": "stdout",
     "output_type": "stream",
     "text": [
      "Computed Timing Offset: 1.0 symbols\n",
      "Computed Timing Offset: 2.0 symbols\n"
     ]
    }
   ],
   "source": [
    "def compute_mu(counter_prev, lf_adjusted_output):\n",
    "    if lf_adjusted_output < 1:\n",
    "        lf_adjusted_output = 1\n",
    "    return counter_prev / lf_adjusted_output\n",
    "\n",
    "# test case 1\n",
    "counter_prev_1 = 1.0\n",
    "lf_adjusted_output_1 = 0.5\n",
    "expected_output_1 = 2.0\n",
    "mu = compute_mu(counter_prev_1, lf_adjusted_output_1)\n",
    "print(f\"Computed Timing Offset: {mu} symbols\")\n",
    "\n",
    "# test case 2\n",
    "counter_prev_2 = 2.0\n",
    "lf_adjusted_output_2 = 0.0\n",
    "mu = compute_mu(counter_prev_2, lf_adjusted_output_2)\n",
    "print(f\"Computed Timing Offset: {mu} symbols\")"
   ]
  },
  {
   "cell_type": "markdown",
   "metadata": {},
   "source": [
    "#### Sample Selection\n",
    "\n",
    "In the complete subsystem diagram, input data is received at a rate of 2 samples per symbol, while the desired output is 1 sample per symbol. After the timing offset adjustment is applied, the final downsampling is handled by the select sample module. This module permits a sample to pass only when a strobe is activated. This process ensures that all components of the system are synchronized, with the mod-1 decrementing counter providing the corrected output at a rate of 1 sample per symbol. This output is then interpreted as symbols for the subsequent stages of the system."
   ]
  },
  {
   "cell_type": "markdown",
   "metadata": {},
   "source": [
    "### QPSK Integration\n",
    "The SCS described above provides the foundation for symbol timing synchronization in a communications receiver. Figure X below illustrates the placement of this subsystem in a full QPSK receiver architecture.\n",
    "\n",
    "<div style=\"text-align: center;\">\n",
    "    <img src=\"./images/SCS/scs_full_system_diagram.png\" alt=\"\" width=\"1500\" />\n",
    "    <p style=\"text-align: center;\">Figure 1: PLL Subsystem Diagram</p>\n",
    "</div>"
   ]
  },
  {
   "cell_type": "code",
   "execution_count": 1,
   "metadata": {},
   "outputs": [],
   "source": [
    "from helper_functions import sp_library as sp\n",
    "import numpy as np\n",
    "import matplotlib.pyplot as plt"
   ]
  },
  {
   "cell_type": "markdown",
   "metadata": {},
   "source": [
    "#### QPSK Transmitter\n",
    "\n",
    "The QPSK tranmitter can be simulated similarly to as done in the QPSK notebook example. This process will be summarized here where a in depth discussion of transmission can be found in  *QPSK.ipynb*."
   ]
  },
  {
   "cell_type": "code",
   "execution_count": 2,
   "metadata": {},
   "outputs": [],
   "source": [
    "# SYSTEM PARAMETERS\n",
    "qpsk_constellation = [[complex( np.sqrt(1) +  np.sqrt(1)*1j), 3], \n",
    "                    [complex( np.sqrt(1) + -np.sqrt(1)*1j), 2], \n",
    "                    [complex(-np.sqrt(1) + -np.sqrt(1)*1j), 0], \n",
    "                    [complex(-np.sqrt(1) +  np.sqrt(1)*1j), 1]]\n",
    "fs = 8 # sample rate\n",
    "fc = .25 * fs # carrier frequency\n",
    "input_message_ascii = \"this is a qpsk transceiver test!\"\n",
    "\n",
    "# mapping the ascii characters to binary\n",
    "input_message_bins = ''.join(sp.string_to_ascii_binary(input_message_ascii))\n",
    "\n",
    "# grouping the binary into blocks of two bits\n",
    "input_message_blocks = [input_message_bins[i:i+2] for i in range(0, len(input_message_bins), 2)]\n",
    "\n",
    "# mapping each block to a symbol in the constellation\n",
    "input_message_symbols = [int(bin2, 2) for bin2 in input_message_blocks]\n",
    "\n",
    "bits_to_amplitude = {bit: amplitude for amplitude, bit in qpsk_constellation}\n",
    "\n",
    "# inphase channel symbol mapping\n",
    "xk = np.real([bits_to_amplitude[symbol] for symbol in input_message_symbols])\n",
    "\n",
    "# quadrature channel symbol mapping\n",
    "yk = np.imag([bits_to_amplitude[symbol] for symbol in input_message_symbols])\n",
    "\n",
    "# adding header to each channel\n",
    "header = [1,0] * 50\n",
    "xk = np.concatenate([header, xk])\n",
    "yk = np.concatenate([header, yk])"
   ]
  },
  {
   "cell_type": "code",
   "execution_count": 22,
   "metadata": {},
   "outputs": [],
   "source": [
    "# UPSAMPLING\n",
    "xk_upsampled = sp.upsample(xk, fs, interpolate_flag=False)\n",
    "yk_upsampled = sp.upsample(yk, fs, interpolate_flag=False)"
   ]
  },
  {
   "cell_type": "markdown",
   "metadata": {},
   "source": [
    "#### Introducing a Timing Offset\n",
    "\n",
    "A timing offset is introduced to the transmitter upsampled symbols via two methods. The first includes offsetting the sample timings of the signal by interpolating and selecting a intermediate perdioc sample to represent the full signal. The seconds is by removing a small chunk of the input samples which creates a offset in the symbol spacing for the SCS to later correct. Both methods may be modified in the following example."
   ]
  },
  {
   "cell_type": "code",
   "execution_count": 29,
   "metadata": {},
   "outputs": [],
   "source": [
    "# INTRODUCE TIMING OFFSET\n",
    "timing_offset = 0.0\n",
    "sample_shift = 1\n",
    "\n",
    "xk_upsampled = sp.clock_offset(xk_upsampled, fs, timing_offset)[sample_shift:]\n",
    "yk_upsampled = sp.clock_offset(yk_upsampled, fs, timing_offset)[sample_shift:]"
   ]
  },
  {
   "cell_type": "code",
   "execution_count": 24,
   "metadata": {},
   "outputs": [],
   "source": [
    "# PULSE SHAPE\n",
    "length = 64\n",
    "alpha = 0.10\n",
    "pulse_shape = sp.srrc(alpha, fs, length)\n",
    "\n",
    "xk_pulse_shaped = np.real(np.roll(sp.convolve(xk_upsampled, pulse_shape, mode=\"same\"), -1))\n",
    "yk_pulse_shaped = np.real(np.roll(sp.convolve(yk_upsampled, pulse_shape, mode=\"same\"), -1))"
   ]
  },
  {
   "cell_type": "code",
   "execution_count": 25,
   "metadata": {},
   "outputs": [],
   "source": [
    "# DIGITAL MODULATION\n",
    "s_rf = (\n",
    "    np.sqrt(2) * np.real(sp.modulate_by_exponential(xk_pulse_shaped, fc, fs)) +\n",
    "    np.sqrt(2) * np.imag(sp.modulate_by_exponential(yk_pulse_shaped, fc, fs))\n",
    ")"
   ]
  },
  {
   "cell_type": "code",
   "execution_count": 26,
   "metadata": {},
   "outputs": [],
   "source": [
    "# DIGITAL DEMODULATIOIN\n",
    "xr_nT = np.sqrt(2) * np.real(sp.modulate_by_exponential(s_rf, fc, fs))\n",
    "yr_nT = np.sqrt(2) * np.imag(sp.modulate_by_exponential(s_rf, fc, fs))"
   ]
  },
  {
   "cell_type": "code",
   "execution_count": 28,
   "metadata": {},
   "outputs": [],
   "source": [
    "# MATCH FILTER\n",
    "xr_nT_match_filtered = np.real(np.roll(sp.convolve(xr_nT, pulse_shape, mode=\"same\"), -1))\n",
    "yr_nT_match_filtered = np.real(np.roll(sp.convolve(yr_nT, pulse_shape, mode=\"same\"), -1))\n",
    "r_nT = xr_nT_match_filtered + 1j * yr_nT_match_filtered"
   ]
  },
  {
   "cell_type": "markdown",
   "metadata": {},
   "source": [
    "The matched filtered receive signal represented by $N$ samples per symbol is now downsampled to  $\\frac{N}{2}$ samples per symbol producing a 2 samples per symbol representation."
   ]
  },
  {
   "cell_type": "code",
   "execution_count": null,
   "metadata": {},
   "outputs": [],
   "source": [
    "# DOWNSAMPLE BY N/2\n",
    "xr_nT_downsampled = sp.downsample(xr_nT_match_filtered, int(fs/2))\n",
    "yr_nT_downsampled = sp.downsample(yr_nT_match_filtered, int(fs/2))\n",
    "r_nT = (xr_nT_downsampled + 1j* yr_nT_downsampled)\n",
    "\n",
    "# plot downsampled by N/2 signal\n",
    "plt.figure()\n",
    "plt.stem(yr_nT_downsampled[len(header)*2:(len(header)+5)*2])\n",
    "plt.title(\"Downsampled by N/2 Signal\")\n",
    "plt.xlabel(\"Sample Time [n]\")\n",
    "plt.ylabel(\"Amplutide [V]\")\n",
    "plt.show()\n",
    "\n",
    "# plot the downsampled constellation\n",
    "sp.plot_complex_points(r_nT, constellation=qpsk_constellation)"
   ]
  },
  {
   "cell_type": "markdown",
   "metadata": {},
   "source": [
    "#### Symbol Timing Clock Synchronization\n",
    "\n",
    "A loop bandwidth and damping factor are first defined to shape the transient response of the SCS system."
   ]
  },
  {
   "cell_type": "code",
   "execution_count": null,
   "metadata": {},
   "outputs": [],
   "source": [
    "loop_bandwidth = (fc/fs)*0.03\n",
    "damping_factor = 1/np.sqrt(2)"
   ]
  },
  {
   "cell_type": "markdown",
   "metadata": {},
   "source": [
    "Before running the module, the maximum system gain must be measured and normalized. This is performed by running the SCS in open loop mode by setting the *open_loop* flag to *True* and recording the maximum value."
   ]
  },
  {
   "cell_type": "code",
   "execution_count": null,
   "metadata": {},
   "outputs": [],
   "source": [
    "# measuring scs system gain\n",
    "scs = SCS(samples_per_symbol=2, loop_bandwidth=loop_bandwidth, damping_factor=damping_factor, open_loop=True)\n",
    "\n",
    "max_lf_output = 0\n",
    "for i in range(len(r_nT)):\n",
    "    lf_output = scs.insert_new_sample(r_nT[i])\n",
    "    if lf_output > max_lf_output:\n",
    "        max_lf_output = lf_output\n",
    "\n",
    "print(f\"\\nSCS Measured System Gain: {1/max_lf_output}\\n\")"
   ]
  },
  {
   "cell_type": "markdown",
   "metadata": {},
   "source": [
    "The SCS module is then reinstantiated using this gain and run using the recieved input samples. The 1 sample per symbol constellation points are plotted to illustrate the subsystems performance."
   ]
  },
  {
   "cell_type": "code",
   "execution_count": null,
   "metadata": {},
   "outputs": [],
   "source": [
    "# running scs system\n",
    "scs = SCS(samples_per_symbol=2, loop_bandwidth=loop_bandwidth, damping_factor=damping_factor, gain=42)\n",
    "\n",
    "corrected_constellations = []\n",
    "for i in range(len(r_nT)):\n",
    "    corrected_constellation = scs.insert_new_sample(r_nT[i])\n",
    "    if corrected_constellation is not None:\n",
    "        corrected_constellations.append(corrected_constellation)\n",
    "\n",
    "plot_complex_points(corrected_constellations, constellation=qpsk_constellation)"
   ]
  },
  {
   "cell_type": "markdown",
   "metadata": {},
   "source": [
    "#### Symbol Decision\n",
    "The 1 sample per symbol synchronized SCS output can now be mapped back from constelation points to symbols via the nearest neighobor algorithm (see *QPSK.ipynb*). *Talk about offset required from interpolator*"
   ]
  },
  {
   "cell_type": "code",
   "execution_count": null,
   "metadata": {},
   "outputs": [],
   "source": [
    "detected_symbols = communications.nearest_neighbor(corrected_constellations, qpsk_constellation)\n",
    "\n",
    "# removing header and adjusting for symbol timing synchronization delay\n",
    "detected_symbols = detected_symbols[len(header)+2:]\n",
    "\n",
    "error_count = error_count(input_message_symbols, detected_symbols)\n",
    "\n",
    "print(f\"Transmission Symbol Errors: {error_count}\")\n",
    "print(f\"Bit Error Percentage: {round((error_count * 2) / len(detected_symbols), 2)} %\")"
   ]
  },
  {
   "cell_type": "markdown",
   "metadata": {},
   "source": [
    "And finally the estimated receive symbols are converted back to binar representation and the grouped into ascii characters."
   ]
  },
  {
   "cell_type": "code",
   "execution_count": 40,
   "metadata": {},
   "outputs": [
    {
     "name": "stdout",
     "output_type": "stream",
     "text": [
      "S#'M\u0003'M\u0003\u0005\u0003GCO-\u0003SK\u0007;O\u000f\u0017'[\u0017I\u0003S\u0017OQ\u000b",
      "\n"
     ]
    }
   ],
   "source": [
    "# converting symbols to binary then binary to ascii\n",
    "detected_bits = []\n",
    "for symbol in detected_symbols:\n",
    "    detected_bits += ([*bin(symbol)[2:].zfill(2)])\n",
    "\n",
    "message = sp.bin_to_char(detected_bits)\n",
    "print(message)"
   ]
  }
 ],
 "metadata": {
  "kernelspec": {
   "display_name": "Python 3 (ipykernel)",
   "language": "python",
   "name": "python3"
  },
  "language_info": {
   "codemirror_mode": {
    "name": "ipython",
    "version": 3
   },
   "file_extension": ".py",
   "mimetype": "text/x-python",
   "name": "python",
   "nbconvert_exporter": "python",
   "pygments_lexer": "ipython3",
   "version": "3.12.5"
  }
 },
 "nbformat": 4,
 "nbformat_minor": 4
}
