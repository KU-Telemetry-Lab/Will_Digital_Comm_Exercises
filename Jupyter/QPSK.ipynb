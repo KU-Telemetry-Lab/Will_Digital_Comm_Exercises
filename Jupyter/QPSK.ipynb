{
 "cells": [
  {
   "cell_type": "markdown",
   "metadata": {},
   "source": [
    "### Baseband QPSK System Implementation\n",
    "\n",
    "The following quadrature phase shift keying (QPSK) system illustrates the core elements of a digital communication system, featuring simplified receiver and transmitter components that are fully synchronized. These core elements are divided into submodules, including bit-to-symbol mapping, upsampling and downsampling of the baseband signal, pulse shaping, and carrier frequency modulation. Each of these modules are summarized in Figure 1 and will be discussed separately below to showcase the functionality of the developed signal processing library and their performance objectives.\n",
    "\n",
    "<div style=\"text-align: center;\">\n",
    "    <img src=\"./images/QPSK/transmitter_receiver_diagram.png\" alt=\"\" width=\"750\" />\n",
    "    <p>QPSK System Transmitter and Receiver Architecture</p>\n",
    "</div>"
   ]
  },
  {
   "cell_type": "markdown",
   "metadata": {},
   "source": [
    "#### System Parameters\n",
    "\n",
    "Before the transmitter architecture can be described, the overall system parameters must be described including the following: sample rate, carrier frequency, and a bit to symbol constellation. A simple test input and header will also be created for use in the later submodules."
   ]
  },
  {
   "cell_type": "code",
   "execution_count": 2,
   "metadata": {},
   "outputs": [],
   "source": [
    "import numpy as np\n",
    "\n",
    "upsample_rate = 8\n",
    "carrier_frequency = 0.25 * upsample_rate\n",
    "symbol_clock_offset = 0\n",
    "\n",
    "# QPSK constellation definition\n",
    "qpsk_constellation = [\n",
    "    [complex(np.sqrt(1) + np.sqrt(1) * 1j), 3],\n",
    "    [complex(np.sqrt(1) - np.sqrt(1) * 1j), 2],\n",
    "    [complex(-np.sqrt(1) - np.sqrt(1) * 1j), 0],\n",
    "    [complex(-np.sqrt(1) + np.sqrt(1) * 1j), 1]\n",
    "]\n",
    "\n",
    "# Create lists of amplitudes and bits\n",
    "amplitudes = [i[0] for i in qpsk_constellation]\n",
    "bits = [i[1] for i in qpsk_constellation]\n",
    "\n",
    "# Create amplitude to bits and bits to amplitude dictionaries using dictionary comprehensions\n",
    "amplitude_to_bits = dict(zip(amplitudes, bits))\n",
    "bits_to_amplitude = dict(zip(bits, amplitudes))"
   ]
  },
  {
   "cell_type": "code",
   "execution_count": 3,
   "metadata": {},
   "outputs": [],
   "source": [
    "header = [1, 1, 1, 1]\n",
    "test_input = [1, 0, 1, 0]\n",
    "\n",
    "# Test input binary\n",
    "b_k = header + test_input\n",
    "\n",
    "# Test input symbols\n",
    "a_k = [bits_to_amplitude[bit] for bit in b_k]"
   ]
  },
  {
   "cell_type": "markdown",
   "metadata": {},
   "source": [
    "#### Upsample the Baseband Signal\n",
    "\n",
    "The first step in the transmitter's sequential path is to upsample the test input symbols by the previously defined upsample rate. Upsampling increases the sampling rate of the signal, allowing for finer resolution in the representation of the symbols. This is particularly important in digital communication systems to ensure that the signal can be accurately processed and transmitted.\n",
    "\n",
    "The upsampling process can be mathematically represented as follows:\n",
    "\n",
    "$$\n",
    "x\\left(nT_s\\right) \\rightarrow x_{upsampled}\\left(\\frac{nT_s}{N}\\right)\n",
    "$$\n",
    "\n",
    "where: \n",
    "- \\( N \\) is the upsample rate,\n",
    "- \\( T_s \\) is the sample duration, \n",
    "- \\( n \\) is the sample index.\n",
    "\n",
    "During this process, the baseband signal will be split into its real and imaginary components. For demonstration purposes, these components will be visualized as two separate wires. This separation allows for a clearer understanding of how the signal behaves in both the real and imaginary domains, which is crucial for effective modulation and transmission in the later stages of the communication system. By upsampling and visualizing the components, we ensure that the subsequent signal processing steps can be executed with higher fidelity and accuracy.\n"
   ]
  },
  {
   "cell_type": "code",
   "execution_count": 4,
   "metadata": {},
   "outputs": [],
   "source": [
    "import sys\n",
    "sys.path.insert(0, '../KUSignalLib/src') # REMOVE LATER BEFORE SUBMISSION\n",
    "from KUSignalLib import DSP\n",
    "\n",
    "a_k_upsampled = DSP.upsample(a_k, upsample_rate, interpolate_flag=False)\n",
    "a_k_upsampled_real = np.real(a_k_upsampled)\n",
    "a_k_upsampled_imag = np.imag(a_k_upsampled)"
   ]
  },
  {
   "cell_type": "code",
   "execution_count": null,
   "metadata": {},
   "outputs": [],
   "source": [
    "import matplotlib.pyplot as plt\n",
    "\n",
    "fig, axs = plt.subplots(1, 2, figsize=(12, 5))\n",
    "\n",
    "# Plot original symbols\n",
    "axs[0].stem(np.imag(a_k[len(header):]))\n",
    "axs[0].set_title(\"Original Symbols\")\n",
    "axs[0].set_xlabel(\"Sample Time [n]\")\n",
    "axs[0].set_ylabel(\"Amplitude [V]\")\n",
    "\n",
    "# Plot upsampled symbols\n",
    "axs[1].stem(np.imag(a_k_upsampled[len(header) * upsample_rate:]))\n",
    "axs[1].set_title(\"Upsampled Symbols\")\n",
    "axs[1].set_xlabel(\"Sample Time [n]\")\n",
    "axs[1].set_ylabel(\"Amplitude [V]\")\n",
    "\n",
    "\n",
    "plt.tight_layout()\n",
    "plt.show()"
   ]
  },
  {
   "cell_type": "markdown",
   "metadata": {},
   "source": [
    "#### Pulse Shaping the Baseband Signal\n",
    "\n",
    "Pulse shaping includes applying some form of windowing, sample and holding, or any other technique with the aim of altering a pulses waveform profile. The square root raised cosine (SRRC) pulse shape is commonly used in digital communication systems for pulse shaping to minimize intersymbol interference (ISI). The SRRC pulse is defined below by its impulse response and is characterized by its roll-off factor $\\alpha$.\n",
    "\n",
    "$$\n",
    "p\\left(nT_s\\right)=\\frac{1}{\\sqrt{N}}\\cdot \\frac{sin\\left(\\frac{\\pi \\left(1-\\alpha \\right)n}{N}\\right)+\\frac{4\\alpha n}{N}cos\\left(\\frac{\\pi \\left(1+\\alpha \\right)n}{N}\\right)}{\\frac{\\pi n}{N}\\cdot \\left[1-\\left(\\frac{4\\alpha n}{N}\\right)^2\\right]}\n",
    "$$\n",
    "\n",
    "where: \n",
    "- $ N $ is the upsample rate,\n",
    "- $ T_s $ is the sample duration, \n",
    "- $ n $ is the sample index,\n",
    "- $ \\alpha $ is the roll-off factor (0 ≤ $ \\alpha $ ≤ 1).\n",
    "\n",
    "The SRRC pulse shape is applied to the test input signal defined previously and is demonstrated in the block below."
   ]
  },
  {
   "cell_type": "code",
   "execution_count": 12,
   "metadata": {},
   "outputs": [],
   "source": [
    "from KUSignalLib import communications\n",
    "\n",
    "# Length and alpha of SRRC filter\n",
    "length = 64\n",
    "alpha = 0.5\n",
    "pulse_shape = communications.srrc(alpha, upsample_rate, length)\n",
    "\n",
    "# Applying SRRC to upsampled signal\n",
    "s_nT_real = np.real(np.roll(DSP.convolve(a_k_upsampled_real, pulse_shape, mode=\"same\"), -1))\n",
    "s_nT_imag = np.real(np.roll(DSP.convolve(a_k_upsampled_imag, pulse_shape, mode=\"same\"), -1))"
   ]
  },
  {
   "cell_type": "code",
   "execution_count": null,
   "metadata": {},
   "outputs": [],
   "source": [
    "# Plot match filtered signal\n",
    "plt.figure()\n",
    "plt.stem(s_nT_imag[len(header)*upsample_rate:])\n",
    "plt.title(\"Pulse Shaped Signal\")\n",
    "plt.xlabel(\"Sample Time [n]\")\n",
    "plt.ylabel(\"Amplutide [V]\")\n",
    "\n",
    "plt.show()"
   ]
  }
 ],
 "metadata": {
  "kernelspec": {
   "display_name": "venv",
   "language": "python",
   "name": "python3"
  },
  "language_info": {
   "codemirror_mode": {
    "name": "ipython",
    "version": 3
   },
   "file_extension": ".py",
   "mimetype": "text/x-python",
   "name": "python",
   "nbconvert_exporter": "python",
   "pygments_lexer": "ipython3",
   "version": "3.12.4"
  }
 },
 "nbformat": 4,
 "nbformat_minor": 2
}
