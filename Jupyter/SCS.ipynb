{
 "cells": [
  {
   "cell_type": "markdown",
   "metadata": {},
   "source": [
    "#### THINGS TO ADD\n"
   ]
  },
  {
   "cell_type": "markdown",
   "metadata": {},
   "source": [
    "#### SCS Implementation\n",
    "\n",
    "This section outlines the symbol clock synchronization (SCS) implementation, highlighting the various submodules needed to correct symbol clock offsets and explaining their functionalities. SCS is essential in communication systems with non-coherent transmitter and receiver architectures, which can lead to a lack of synchronization between the two. While a phase-locked loop (PLL) can track the envelope of the received signal, the analog-to-digital converter (ADC) samples the signal based on its own internal clock, which is unaware of the optimal symbol sample times. The SCS addresses the small clock offsets resulting from this desynchronization, enabling sampling at the ideal symbol time and thereby reducing the likelihood of symbol errors. Figure 1 below displays the different SCS submodules and their placement in the overall system.\n",
    "\n",
    "SCS SUBMODULE DIAGRAM\n",
    "<!-- <div style=\"text-align: center;\">\n",
    "    <img src=\"./images/QPSK/transmitter_receiver_diagram.png\" alt=\"\" width=\"750\" />\n",
    "    <p>QPSK System Transmitter and Receiver Architecture</p>\n",
    "</div> -->"
   ]
  },
  {
   "cell_type": "markdown",
   "metadata": {},
   "source": [
    "#### Imports and Library Functions\n",
    "\n",
    "talk about library and imports here"
   ]
  },
  {
   "cell_type": "code",
   "execution_count": 1,
   "metadata": {},
   "outputs": [],
   "source": [
    "from helper_functions import sp_library as sp\n",
    "import numpy as np \n",
    "import matplotlib.pyplot as plt"
   ]
  },
  {
   "cell_type": "markdown",
   "metadata": {},
   "source": [
    "#### Timing Error Detector\n",
    "As seen in the diagram above, the timing error detector (TED), receives an input signal at 2 samples per symbol. The general foundation of the TED is that it looks at the samples on either side of the current sample and uses the slope between the two, along with the sign of the current sample to calculate a proportional clock adjustment to be made. This is shown in Figure X below.\n",
    "\n",
    "TED SAMPLE ERROR CALC DIAGRAM\n",
    "\n",
    "$$\n",
    "e\\left(nT\\right)=x\\left(nT_s+\\tau \\right)\\left(x\\left(\\left(n+1\\right)T_s+\\tau \\right)-x\\left(\\left(n-1\\right)T_s+\\tau \\right)\\right)\n",
    "$$\n",
    "\n",
    "where:\n",
    "- $x(nT_s)$ is the current sample,\n",
    "- $x((n+1)T_s)$ is the next sample (often referred to as late),\n",
    "- $x((n-1)T_s)$ is the previous sample (often referred to as early),\n",
    "- $\\tau$ is the previously calculated clock offset.\n",
    "\n",
    "This calculation can be made for the real or imaginary channels in a quadrature system as it is assumed that the same ADC was used for discretization and therefore the two channels are synchronized. The following excerpt shoes the timing error detector implementation used later in the full system."
   ]
  },
  {
   "cell_type": "code",
   "execution_count": 3,
   "metadata": {},
   "outputs": [
    {
     "name": "stdout",
     "output_type": "stream",
     "text": [
      "Calculated Clock Offset): -2.0\n"
     ]
    }
   ],
   "source": [
    "def early_late_ted(early_sample, current_sample, late_sample, gain):\n",
    "        e_nT = (late_sample - early_sample) * (-1 if current_sample < 0 else 1)\n",
    "        return e_nT * gain\n",
    "\n",
    "# test samples\n",
    "early_sample = 1.0\n",
    "current_sample = -0.5\n",
    "late_sample = 2.0\n",
    "gain = 2\n",
    "\n",
    "ted_output = early_late_ted(early_sample, current_sample, late_sample, gain)\n",
    "print(f\"Calculated Clock Offset): {ted_output}\")"
   ]
  },
  {
   "cell_type": "markdown",
   "metadata": {},
   "source": [
    "#### Loop Filter\n",
    "The loop filter module provides stability for the overall SCS sstem by shaping the closed-loop frequency (transient) response. During instantiation of the SCS system, a loop bandwidth and damping factor are defined as parameters shaping this transient response. The loop bandwidth specifies the speed at which the SCS will converge towards zeroing the received symbol clock offset. Setting a wider loop bandwidth allows the SCS to respond more rapidly respond to different clock offsets but introduces more internal noise. The damping factor, often represented as $\\zeta$ specifies how the oscillations decay in the transient response when a input frequency change is introduced. Together these parameters categorize the loop filter coefficients $K_1$ and $K_2$ which are derived below.\n",
    "\n",
    "LOOP FILTER DIAGRAM HERE\n",
    "\n",
    "$$\n",
    "K_1 = \\frac{4 \\xi \\left( \\frac{B_n T_s}{\\zeta + \\frac{1}{4 \\zeta}} \\right)}{1 + 2 \\zeta \\left( \\frac{B_{nT} T_s}{\\zeta + \\frac{1}{4 \\zeta}} \\right) + \\left( \\frac{B_{nT} T_s}{\\zeta + \\frac{1}{4 \\zeta}} \\right)^2} \\quad \\quad \\quad K_2 = \\frac{4 \\left( \\frac{B_n T_s}{\\zeta + \\frac{1}{4 \\zeta}} \\right)^2}{1 + 2 \\zeta \\left( \\frac{B_{nT} T_s}{\\zeta + \\frac{1}{4 \\zeta}} \\right) + \\left( \\frac{B_{nT} T_s}{\\zeta + \\frac{1}{4 \\zeta}} \\right)^2}\n",
    "$$\n",
    "\n",
    "where:\n",
    "- $B_n$ represents the loop bandwidth (usually normalized for the sample rate $f_s$),\n",
    "- $\\zeta$ represents the damping factor,\n",
    "- $T_s$ is the sampling period of the system."
   ]
  },
  {
   "cell_type": "code",
   "execution_count": 4,
   "metadata": {},
   "outputs": [
    {
     "name": "stdout",
     "output_type": "stream",
     "text": [
      "\n",
      " Loop Filter Configuration Parameters\n",
      "Sample Rate: 8\n",
      "Loop Bandwidth: 0.16\n",
      "Damping Factor: 0.70711\n",
      "Loop Filter Coefficient K1: 0.05193\n",
      "Loop Filter Coefficient K2: 0.00035\n",
      "\n"
     ]
    }
   ],
   "source": [
    "def compute_loop_constants(fs, lb, df):\n",
    "    denominator = 1 + ((2 * df) * ((lb * (1 / fs)) / (df + (1 / (4 * df))))) + ((lb * (1 / fs)) / (df + (1 / (4 * df)))) ** 2\n",
    "    K1 = ((4 * df) * ((lb * (1 / fs)) / (df + (1 / (4 * df))))) / denominator\n",
    "    K2 = (((lb * (1 / fs)) / (df + (1 / (4 * df)))) ** 2) / denominator\n",
    "    return K1, K2\n",
    "\n",
    "sample_rate = 8\n",
    "loop_bandwidth = 0.02 * sample_rate\n",
    "damping_factor = 1 / np.sqrt(2)\n",
    "k1, k2 = compute_loop_constants(sample_rate, loop_bandwidth, damping_factor)\n",
    "\n",
    "print(\"\\n Loop Filter Configuration Parameters\")\n",
    "print(f\"Sample Rate: {sample_rate}\")\n",
    "print(f\"Loop Bandwidth: {loop_bandwidth}\")\n",
    "print(f\"Damping Factor: {np.round(damping_factor, 5)}\")\n",
    "print(f\"Loop Filter Coefficient K1: {np.round(k1, 5)}\")\n",
    "print(f\"Loop Filter Coefficient K2: {np.round(k2, 5)}\\n\")"
   ]
  }
 ],
 "metadata": {
  "kernelspec": {
   "display_name": "venv",
   "language": "python",
   "name": "venv"
  },
  "language_info": {
   "codemirror_mode": {
    "name": "ipython",
    "version": 3
   },
   "file_extension": ".py",
   "mimetype": "text/x-python",
   "name": "python",
   "nbconvert_exporter": "python",
   "pygments_lexer": "ipython3",
   "version": "3.12.4"
  }
 },
 "nbformat": 4,
 "nbformat_minor": 2
}
